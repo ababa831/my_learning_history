{
 "cells": [
  {
   "cell_type": "markdown",
   "metadata": {},
   "source": [
    "# 第12章 仮説検定 練習問題 答案\n",
    "\n",
    "統計用のライブラリはできる限り使用せずスクラッチで計算\n",
    "ただし，検算には用いる"
   ]
  },
  {
   "cell_type": "markdown",
   "metadata": {},
   "source": [
    "# 12.1"
   ]
  },
  {
   "cell_type": "code",
   "execution_count": 1,
   "metadata": {},
   "outputs": [],
   "source": [
    "# ある機械で生産された10個の製品の重要\n",
    "product_weights = [101.1, 103.2, 102.1, 99.2, 100.5, 101.3, 99.7, 100.5, 98.9, 101.4]\n",
    "n = len(product_weights)"
   ]
  },
  {
   "cell_type": "code",
   "execution_count": 2,
   "metadata": {},
   "outputs": [
    {
     "name": "stdout",
     "output_type": "stream",
     "text": "A: 帰無仮説H_0は有意水準5%で棄却されない\n"
    }
   ],
   "source": [
    "\"\"\"\n",
    "母平均 mew = 100 g と考えてよいか？\n",
    "\n",
    "方針:\n",
    "\n",
    "帰無仮説 H_0: mew = 100\n",
    "対立仮説 H_1: mew != 100\n",
    "として，有意水準5%で両側検定する\n",
    "\n",
    "母分散が未知であるため，標本分散を用いるt検定を採用\n",
    "|t| > t_0.5α(n-1)となるか\n",
    "（t: t統計量, n: 標本数, α: 有意水準, t_0.5α(n-1): パーセント点）\n",
    "\"\"\" \n",
    "# 1. 標本平均 → 標本分散 を求める\n",
    "import numpy as np\n",
    "mean_X = np.mean(product_weights)  # 標本平均\n",
    "s_sqared = sum([(X-mean_X)**2 for X in product_weights]) / (n-1)  # 標本分散\n",
    "# 2. t統計量を求める\n",
    "\"\"\"\n",
    "標本平均の分布は標本分布であるから，この分布はN(mean_X, nσ^2)に従っている．\n",
    "ここで，未知の母分散σ^2の代わりに標本分散s^2を用いる場合の標準化した統計量，\n",
    "すなわちt統計量は，t = (mean_X-mew) / sqrt(s_sqared/n)\n",
    "\"\"\"\n",
    "mew = 100  # 帰無仮説H_0より\n",
    "t = (mean_X-mew) / np.sqrt(s_sqared / n)  # 1.891\n",
    "# 3. |t| > t_0.5α(n-1)となるか確認\n",
    "\"\"\"\n",
    "t分布表より\n",
    "t_0.025(n-1)=2.262\n",
    "|1.891| < 2.262\n",
    "\"\"\"\n",
    "print('A: 帰無仮説H_0は有意水準5%で棄却されない')"
   ]
  },
  {
   "cell_type": "code",
   "execution_count": null,
   "metadata": {},
   "outputs": [],
   "source": []
  }
 ],
 "metadata": {
  "kernelspec": {
   "display_name": "Python 3",
   "language": "python",
   "name": "python3"
  },
  "language_info": {
   "codemirror_mode": {
    "name": "ipython",
    "version": 3
   },
   "file_extension": ".py",
   "mimetype": "text/x-python",
   "name": "python",
   "nbconvert_exporter": "python",
   "pygments_lexer": "ipython3",
   "version": "3.7.3"
  }
 },
 "nbformat": 4,
 "nbformat_minor": 2
}