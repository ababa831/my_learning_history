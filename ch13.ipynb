{
 "nbformat": 4,
 "nbformat_minor": 2,
 "metadata": {
  "language_info": {
   "name": "python",
   "codemirror_mode": {
    "name": "ipython",
    "version": 3
   },
   "version": "3.7.3"
  },
  "orig_nbformat": 2,
  "file_extension": ".py",
  "mimetype": "text/x-python",
  "name": "python",
  "npconvert_exporter": "python",
  "pygments_lexer": "ipython3",
  "version": 3
 },
 "cells": [
  {
   "cell_type": "markdown",
   "execution_count": null,
   "metadata": {},
   "outputs": [],
   "source": [
    "# 第13章 回帰分析 練習問題 答案\n",
    "\n",
    "統計用のライブラリはできる限り使用せずスクラッチで計算\n",
    "ただし，検算には用いる"
   ]
  },
  {
   "cell_type": "markdown",
   "execution_count": null,
   "metadata": {},
   "outputs": [],
   "source": [
    "## 13.1"
   ]
  },
  {
   "cell_type": "code",
   "execution_count": 1,
   "metadata": {},
   "outputs": [],
   "source": [
    "import warnings\n",
    "import pandas as pd\n",
    "\n",
    "warnings.simplefilter('ignore')\n",
    "\n",
    "diameter = [2]*4 + [2.5]*6 + [3]*7 + [3.5]*6 + \\\n",
    "           [4]*7 + [4.5]*6 + [5]*6 + [5.5]*6 + [6]*5 + [6.5]*4 + [7]\n",
    "height = [2, 2.5, 2.5, 3, 2, 2.5, 3, 3, 3, 3.5, 2.5,\n",
    "          3, 3, 3.5, 3.5, 4, 4.5, 3, 3.5, 4, 4.5, 5,\n",
    "          5.5, 3.5, 4, 4.5, 4.5, 5, 5.5, 5.5, 4, 4.5,\n",
    "          5, 5, 5.5, 5.5, 6, 4.5, 5, 5.5, 6, 6.5, 5,\n",
    "          5.5, 5.5, 6, 6.5, 7, 5.5, 5.5, 6, 6.5, 7,\n",
    "          5.5, 6.5, 7, 7, 7.5]\n",
    "n_sample = len(diameter)\n",
    "\n",
    "dict_tree = {'Diameter (x)': diameter, 'Height (y)': height}\n",
    "df_tree = pd.DataFrame(dict_tree)"
   ]
  },
  {
   "cell_type": "code",
   "execution_count": 2,
   "metadata": {},
   "outputs": [
    {
     "data": {
      "text/html": "<div>\n<style scoped>\n    .dataframe tbody tr th:only-of-type {\n        vertical-align: middle;\n    }\n\n    .dataframe tbody tr th {\n        vertical-align: top;\n    }\n\n    .dataframe thead th {\n        text-align: right;\n    }\n</style>\n<table border=\"1\" class=\"dataframe\">\n  <thead>\n    <tr style=\"text-align: right;\">\n      <th></th>\n      <th>Diameter (x)</th>\n      <th>Height (y)</th>\n    </tr>\n  </thead>\n  <tbody>\n    <tr>\n      <th>0</th>\n      <td>2.0</td>\n      <td>2.0</td>\n    </tr>\n    <tr>\n      <th>1</th>\n      <td>2.0</td>\n      <td>2.5</td>\n    </tr>\n    <tr>\n      <th>2</th>\n      <td>2.0</td>\n      <td>2.5</td>\n    </tr>\n    <tr>\n      <th>3</th>\n      <td>2.0</td>\n      <td>3.0</td>\n    </tr>\n    <tr>\n      <th>4</th>\n      <td>2.5</td>\n      <td>2.0</td>\n    </tr>\n    <tr>\n      <th>5</th>\n      <td>2.5</td>\n      <td>2.5</td>\n    </tr>\n    <tr>\n      <th>6</th>\n      <td>2.5</td>\n      <td>3.0</td>\n    </tr>\n    <tr>\n      <th>7</th>\n      <td>2.5</td>\n      <td>3.0</td>\n    </tr>\n    <tr>\n      <th>8</th>\n      <td>2.5</td>\n      <td>3.0</td>\n    </tr>\n    <tr>\n      <th>9</th>\n      <td>2.5</td>\n      <td>3.5</td>\n    </tr>\n    <tr>\n      <th>10</th>\n      <td>3.0</td>\n      <td>2.5</td>\n    </tr>\n    <tr>\n      <th>11</th>\n      <td>3.0</td>\n      <td>3.0</td>\n    </tr>\n    <tr>\n      <th>12</th>\n      <td>3.0</td>\n      <td>3.0</td>\n    </tr>\n    <tr>\n      <th>13</th>\n      <td>3.0</td>\n      <td>3.5</td>\n    </tr>\n    <tr>\n      <th>14</th>\n      <td>3.0</td>\n      <td>3.5</td>\n    </tr>\n    <tr>\n      <th>15</th>\n      <td>3.0</td>\n      <td>4.0</td>\n    </tr>\n    <tr>\n      <th>16</th>\n      <td>3.0</td>\n      <td>4.5</td>\n    </tr>\n    <tr>\n      <th>17</th>\n      <td>3.5</td>\n      <td>3.0</td>\n    </tr>\n    <tr>\n      <th>18</th>\n      <td>3.5</td>\n      <td>3.5</td>\n    </tr>\n    <tr>\n      <th>19</th>\n      <td>3.5</td>\n      <td>4.0</td>\n    </tr>\n    <tr>\n      <th>20</th>\n      <td>3.5</td>\n      <td>4.5</td>\n    </tr>\n    <tr>\n      <th>21</th>\n      <td>3.5</td>\n      <td>5.0</td>\n    </tr>\n    <tr>\n      <th>22</th>\n      <td>3.5</td>\n      <td>5.5</td>\n    </tr>\n    <tr>\n      <th>23</th>\n      <td>4.0</td>\n      <td>3.5</td>\n    </tr>\n    <tr>\n      <th>24</th>\n      <td>4.0</td>\n      <td>4.0</td>\n    </tr>\n    <tr>\n      <th>25</th>\n      <td>4.0</td>\n      <td>4.5</td>\n    </tr>\n    <tr>\n      <th>26</th>\n      <td>4.0</td>\n      <td>4.5</td>\n    </tr>\n    <tr>\n      <th>27</th>\n      <td>4.0</td>\n      <td>5.0</td>\n    </tr>\n    <tr>\n      <th>28</th>\n      <td>4.0</td>\n      <td>5.5</td>\n    </tr>\n    <tr>\n      <th>29</th>\n      <td>4.0</td>\n      <td>5.5</td>\n    </tr>\n    <tr>\n      <th>30</th>\n      <td>4.5</td>\n      <td>4.0</td>\n    </tr>\n    <tr>\n      <th>31</th>\n      <td>4.5</td>\n      <td>4.5</td>\n    </tr>\n    <tr>\n      <th>32</th>\n      <td>4.5</td>\n      <td>5.0</td>\n    </tr>\n    <tr>\n      <th>33</th>\n      <td>4.5</td>\n      <td>5.0</td>\n    </tr>\n    <tr>\n      <th>34</th>\n      <td>4.5</td>\n      <td>5.5</td>\n    </tr>\n    <tr>\n      <th>35</th>\n      <td>4.5</td>\n      <td>5.5</td>\n    </tr>\n    <tr>\n      <th>36</th>\n      <td>5.0</td>\n      <td>6.0</td>\n    </tr>\n    <tr>\n      <th>37</th>\n      <td>5.0</td>\n      <td>4.5</td>\n    </tr>\n    <tr>\n      <th>38</th>\n      <td>5.0</td>\n      <td>5.0</td>\n    </tr>\n    <tr>\n      <th>39</th>\n      <td>5.0</td>\n      <td>5.5</td>\n    </tr>\n    <tr>\n      <th>40</th>\n      <td>5.0</td>\n      <td>6.0</td>\n    </tr>\n    <tr>\n      <th>41</th>\n      <td>5.0</td>\n      <td>6.5</td>\n    </tr>\n    <tr>\n      <th>42</th>\n      <td>5.5</td>\n      <td>5.0</td>\n    </tr>\n    <tr>\n      <th>43</th>\n      <td>5.5</td>\n      <td>5.5</td>\n    </tr>\n    <tr>\n      <th>44</th>\n      <td>5.5</td>\n      <td>5.5</td>\n    </tr>\n    <tr>\n      <th>45</th>\n      <td>5.5</td>\n      <td>6.0</td>\n    </tr>\n    <tr>\n      <th>46</th>\n      <td>5.5</td>\n      <td>6.5</td>\n    </tr>\n    <tr>\n      <th>47</th>\n      <td>5.5</td>\n      <td>7.0</td>\n    </tr>\n    <tr>\n      <th>48</th>\n      <td>6.0</td>\n      <td>5.5</td>\n    </tr>\n    <tr>\n      <th>49</th>\n      <td>6.0</td>\n      <td>5.5</td>\n    </tr>\n    <tr>\n      <th>50</th>\n      <td>6.0</td>\n      <td>6.0</td>\n    </tr>\n    <tr>\n      <th>51</th>\n      <td>6.0</td>\n      <td>6.5</td>\n    </tr>\n    <tr>\n      <th>52</th>\n      <td>6.0</td>\n      <td>7.0</td>\n    </tr>\n    <tr>\n      <th>53</th>\n      <td>6.5</td>\n      <td>5.5</td>\n    </tr>\n    <tr>\n      <th>54</th>\n      <td>6.5</td>\n      <td>6.5</td>\n    </tr>\n    <tr>\n      <th>55</th>\n      <td>6.5</td>\n      <td>7.0</td>\n    </tr>\n    <tr>\n      <th>56</th>\n      <td>6.5</td>\n      <td>7.0</td>\n    </tr>\n    <tr>\n      <th>57</th>\n      <td>7.0</td>\n      <td>7.5</td>\n    </tr>\n  </tbody>\n</table>\n</div>",
      "text/plain": "    Diameter (x)  Height (y)\n0            2.0         2.0\n1            2.0         2.5\n2            2.0         2.5\n3            2.0         3.0\n4            2.5         2.0\n5            2.5         2.5\n6            2.5         3.0\n7            2.5         3.0\n8            2.5         3.0\n9            2.5         3.5\n10           3.0         2.5\n11           3.0         3.0\n12           3.0         3.0\n13           3.0         3.5\n14           3.0         3.5\n15           3.0         4.0\n16           3.0         4.5\n17           3.5         3.0\n18           3.5         3.5\n19           3.5         4.0\n20           3.5         4.5\n21           3.5         5.0\n22           3.5         5.5\n23           4.0         3.5\n24           4.0         4.0\n25           4.0         4.5\n26           4.0         4.5\n27           4.0         5.0\n28           4.0         5.5\n29           4.0         5.5\n30           4.5         4.0\n31           4.5         4.5\n32           4.5         5.0\n33           4.5         5.0\n34           4.5         5.5\n35           4.5         5.5\n36           5.0         6.0\n37           5.0         4.5\n38           5.0         5.0\n39           5.0         5.5\n40           5.0         6.0\n41           5.0         6.5\n42           5.5         5.0\n43           5.5         5.5\n44           5.5         5.5\n45           5.5         6.0\n46           5.5         6.5\n47           5.5         7.0\n48           6.0         5.5\n49           6.0         5.5\n50           6.0         6.0\n51           6.0         6.5\n52           6.0         7.0\n53           6.5         5.5\n54           6.5         6.5\n55           6.5         7.0\n56           6.5         7.0\n57           7.0         7.5"
     },
     "execution_count": 2,
     "metadata": {},
     "output_type": "execute_result"
    }
   ],
   "source": [
    "df_tree"
   ]
  },
  {
   "cell_type": "markdown",
   "execution_count": null,
   "metadata": {},
   "outputs": [],
   "source": [
    "### i) 散布図"
   ]
  },
  {
   "cell_type": "code",
   "execution_count": 3,
   "metadata": {},
   "outputs": [
    {
     "data": {
      "text/plain": "<matplotlib.axes._subplots.AxesSubplot at 0x11d9bd1d0>"
     },
     "execution_count": 3,
     "metadata": {},
     "output_type": "execute_result"
    },
    {
     "data": {
      "image/png": "[encoded data removed]",
      "image/svg+xml": "<?xml version=\"1.0\" encoding=\"utf-8\" standalone=\"no\"?>\n<!DOCTYPE svg PUBLIC \"-//W3C//DTD SVG 1.1//EN\"\n  \"http://www.w3.org/Graphics/SVG/1.1/DTD/svg11.dtd\">\n<!-- Created with matplotlib (https://matplotlib.org/) -->\n<svg height=\"265.69625pt\" version=\"1.1\" viewBox=\"0 0 379.740625 265.69625\" width=\"379.740625pt\" xmlns=\"http://www.w3.org/2000/svg\" xmlns:xlink=\"http://www.w3.org/1999/xlink\">\n <defs>\n  <style type=\"text/css\">\n*{stroke-linecap:butt;stroke-linejoin:round;}\n  </style>\n </defs>\n <g id=\"figure_1\">\n  <g id=\"patch_1\">\n   <path d=\"M 0 265.69625 \nL 379.740625 265.69625 \nL 379.740625 0 \nL 0 0 \nz\n\" style=\"fill:none;\"/>\n  </g>\n  <g id=\"axes_1\">\n   <g id=\"patch_2\">\n    <path d=\"M 34.240625 228.14 \nL 369.040625 228.14 \nL 369.040625 10.7 \nL 34.240625 10.7 \nz\n\" style=\"fill:#ffffff;\"/>\n   </g>\n   <g id=\"PathCollection_1\">\n    <defs>\n     <path d=\"M 0 2.236068 \nC 0.593012 2.236068 1.161816 2.000462 1.581139 1.581139 \nC 2.000462 1.161816 2.236068 0.593012 2.236068 0 \nC 2.236068 -0.593012 2.000462 -1.161816 1.581139 -1.581139 \nC 1.161816 -2.000462 0.593012 -2.236068 0 -2.236068 \nC -0.593012 -2.236068 -1.161816 -2.000462 -1.581139 -1.581139 \nC -2.000462 -1.161816 -2.236068 -0.593012 -2.236068 0 \nC -2.236068 0.593012 -2.000462 1.161816 -1.581139 1.581139 \nC -1.161816 2.000462 -0.593012 2.236068 0 2.236068 \nz\n\" id=\"m8ad61db921\" style=\"stroke:#1f77b4;\"/>\n    </defs>\n    <g clip-path=\"url(#p59644542e5)\">\n     <use style=\"fill:#1f77b4;stroke:#1f77b4;\" x=\"49.864281\" xlink:href=\"#m8ad61db921\" y=\"217.888143\"/>\n     <use style=\"fill:#1f77b4;stroke:#1f77b4;\" x=\"49.864281\" xlink:href=\"#m8ad61db921\" y=\"199.984844\"/>\n     <use style=\"fill:#1f77b4;stroke:#1f77b4;\" x=\"49.864281\" xlink:href=\"#m8ad61db921\" y=\"199.984844\"/>\n     <use style=\"fill:#1f77b4;stroke:#1f77b4;\" x=\"49.864281\" xlink:href=\"#m8ad61db921\" y=\"182.081545\"/>\n     <use style=\"fill:#1f77b4;stroke:#1f77b4;\" x=\"80.21955\" xlink:href=\"#m8ad61db921\" y=\"217.888143\"/>\n     <use style=\"fill:#1f77b4;stroke:#1f77b4;\" x=\"80.21955\" xlink:href=\"#m8ad61db921\" y=\"199.984844\"/>\n     <use style=\"fill:#1f77b4;stroke:#1f77b4;\" x=\"80.21955\" xlink:href=\"#m8ad61db921\" y=\"182.081545\"/>\n     <use style=\"fill:#1f77b4;stroke:#1f77b4;\" x=\"80.21955\" xlink:href=\"#m8ad61db921\" y=\"182.081545\"/>\n     <use style=\"fill:#1f77b4;stroke:#1f77b4;\" x=\"80.21955\" xlink:href=\"#m8ad61db921\" y=\"182.081545\"/>\n     <use style=\"fill:#1f77b4;stroke:#1f77b4;\" x=\"80.21955\" xlink:href=\"#m8ad61db921\" y=\"164.178247\"/>\n     <use style=\"fill:#1f77b4;stroke:#1f77b4;\" x=\"110.574819\" xlink:href=\"#m8ad61db921\" y=\"199.984844\"/>\n     <use style=\"fill:#1f77b4;stroke:#1f77b4;\" x=\"110.574819\" xlink:href=\"#m8ad61db921\" y=\"182.081545\"/>\n     <use style=\"fill:#1f77b4;stroke:#1f77b4;\" x=\"110.574819\" xlink:href=\"#m8ad61db921\" y=\"182.081545\"/>\n     <use style=\"fill:#1f77b4;stroke:#1f77b4;\" x=\"110.574819\" xlink:href=\"#m8ad61db921\" y=\"164.178247\"/>\n     <use style=\"fill:#1f77b4;stroke:#1f77b4;\" x=\"110.574819\" xlink:href=\"#m8ad61db921\" y=\"164.178247\"/>\n     <use style=\"fill:#1f77b4;stroke:#1f77b4;\" x=\"110.574819\" xlink:href=\"#m8ad61db921\" y=\"146.274948\"/>\n     <use style=\"fill:#1f77b4;stroke:#1f77b4;\" x=\"110.574819\" xlink:href=\"#m8ad61db921\" y=\"128.371649\"/>\n     <use style=\"fill:#1f77b4;stroke:#1f77b4;\" x=\"140.930088\" xlink:href=\"#m8ad61db921\" y=\"182.081545\"/>\n     <use style=\"fill:#1f77b4;stroke:#1f77b4;\" x=\"140.930088\" xlink:href=\"#m8ad61db921\" y=\"164.178247\"/>\n     <use style=\"fill:#1f77b4;stroke:#1f77b4;\" x=\"140.930088\" xlink:href=\"#m8ad61db921\" y=\"146.274948\"/>\n     <use style=\"fill:#1f77b4;stroke:#1f77b4;\" x=\"140.930088\" xlink:href=\"#m8ad61db921\" y=\"128.371649\"/>\n     <use style=\"fill:#1f77b4;stroke:#1f77b4;\" x=\"140.930088\" xlink:href=\"#m8ad61db921\" y=\"110.468351\"/>\n     <use style=\"fill:#1f77b4;stroke:#1f77b4;\" x=\"140.930088\" xlink:href=\"#m8ad61db921\" y=\"92.565052\"/>\n     <use style=\"fill:#1f77b4;stroke:#1f77b4;\" x=\"171.285356\" xlink:href=\"#m8ad61db921\" y=\"164.178247\"/>\n     <use style=\"fill:#1f77b4;stroke:#1f77b4;\" x=\"171.285356\" xlink:href=\"#m8ad61db921\" y=\"146.274948\"/>\n     <use style=\"fill:#1f77b4;stroke:#1f77b4;\" x=\"171.285356\" xlink:href=\"#m8ad61db921\" y=\"128.371649\"/>\n     <use style=\"fill:#1f77b4;stroke:#1f77b4;\" x=\"171.285356\" xlink:href=\"#m8ad61db921\" y=\"128.371649\"/>\n     <use style=\"fill:#1f77b4;stroke:#1f77b4;\" x=\"171.285356\" xlink:href=\"#m8ad61db921\" y=\"110.468351\"/>\n     <use style=\"fill:#1f77b4;stroke:#1f77b4;\" x=\"171.285356\" xlink:href=\"#m8ad61db921\" y=\"92.565052\"/>\n     <use style=\"fill:#1f77b4;stroke:#1f77b4;\" x=\"171.285356\" xlink:href=\"#m8ad61db921\" y=\"92.565052\"/>\n     <use style=\"fill:#1f77b4;stroke:#1f77b4;\" x=\"201.640625\" xlink:href=\"#m8ad61db921\" y=\"146.274948\"/>\n     <use style=\"fill:#1f77b4;stroke:#1f77b4;\" x=\"201.640625\" xlink:href=\"#m8ad61db921\" y=\"128.371649\"/>\n     <use style=\"fill:#1f77b4;stroke:#1f77b4;\" x=\"201.640625\" xlink:href=\"#m8ad61db921\" y=\"110.468351\"/>\n     <use style=\"fill:#1f77b4;stroke:#1f77b4;\" x=\"201.640625\" xlink:href=\"#m8ad61db921\" y=\"110.468351\"/>\n     <use style=\"fill:#1f77b4;stroke:#1f77b4;\" x=\"201.640625\" xlink:href=\"#m8ad61db921\" y=\"92.565052\"/>\n     <use style=\"fill:#1f77b4;stroke:#1f77b4;\" x=\"201.640625\" xlink:href=\"#m8ad61db921\" y=\"92.565052\"/>\n     <use style=\"fill:#1f77b4;stroke:#1f77b4;\" x=\"231.995894\" xlink:href=\"#m8ad61db921\" y=\"74.661753\"/>\n     <use style=\"fill:#1f77b4;stroke:#1f77b4;\" x=\"231.995894\" xlink:href=\"#m8ad61db921\" y=\"128.371649\"/>\n     <use style=\"fill:#1f77b4;stroke:#1f77b4;\" x=\"231.995894\" xlink:href=\"#m8ad61db921\" y=\"110.468351\"/>\n     <use style=\"fill:#1f77b4;stroke:#1f77b4;\" x=\"231.995894\" xlink:href=\"#m8ad61db921\" y=\"92.565052\"/>\n     <use style=\"fill:#1f77b4;stroke:#1f77b4;\" x=\"231.995894\" xlink:href=\"#m8ad61db921\" y=\"74.661753\"/>\n     <use style=\"fill:#1f77b4;stroke:#1f77b4;\" x=\"231.995894\" xlink:href=\"#m8ad61db921\" y=\"56.758455\"/>\n     <use style=\"fill:#1f77b4;stroke:#1f77b4;\" x=\"262.351162\" xlink:href=\"#m8ad61db921\" y=\"110.468351\"/>\n     <use style=\"fill:#1f77b4;stroke:#1f77b4;\" x=\"262.351162\" xlink:href=\"#m8ad61db921\" y=\"92.565052\"/>\n     <use style=\"fill:#1f77b4;stroke:#1f77b4;\" x=\"262.351162\" xlink:href=\"#m8ad61db921\" y=\"92.565052\"/>\n     <use style=\"fill:#1f77b4;stroke:#1f77b4;\" x=\"262.351162\" xlink:href=\"#m8ad61db921\" y=\"74.661753\"/>\n     <use style=\"fill:#1f77b4;stroke:#1f77b4;\" x=\"262.351162\" xlink:href=\"#m8ad61db921\" y=\"56.758455\"/>\n     <use style=\"fill:#1f77b4;stroke:#1f77b4;\" x=\"262.351162\" xlink:href=\"#m8ad61db921\" y=\"38.855156\"/>\n     <use style=\"fill:#1f77b4;stroke:#1f77b4;\" x=\"292.706431\" xlink:href=\"#m8ad61db921\" y=\"92.565052\"/>\n     <use style=\"fill:#1f77b4;stroke:#1f77b4;\" x=\"292.706431\" xlink:href=\"#m8ad61db921\" y=\"92.565052\"/>\n     <use style=\"fill:#1f77b4;stroke:#1f77b4;\" x=\"292.706431\" xlink:href=\"#m8ad61db921\" y=\"74.661753\"/>\n     <use style=\"fill:#1f77b4;stroke:#1f77b4;\" x=\"292.706431\" xlink:href=\"#m8ad61db921\" y=\"56.758455\"/>\n     <use style=\"fill:#1f77b4;stroke:#1f77b4;\" x=\"292.706431\" xlink:href=\"#m8ad61db921\" y=\"38.855156\"/>\n     <use style=\"fill:#1f77b4;stroke:#1f77b4;\" x=\"323.0617\" xlink:href=\"#m8ad61db921\" y=\"92.565052\"/>\n     <use style=\"fill:#1f77b4;stroke:#1f77b4;\" x=\"323.0617\" xlink:href=\"#m8ad61db921\" y=\"56.758455\"/>\n     <use style=\"fill:#1f77b4;stroke:#1f77b4;\" x=\"323.0617\" xlink:href=\"#m8ad61db921\" y=\"38.855156\"/>\n     <use style=\"fill:#1f77b4;stroke:#1f77b4;\" x=\"323.0617\" xlink:href=\"#m8ad61db921\" y=\"38.855156\"/>\n     <use style=\"fill:#1f77b4;stroke:#1f77b4;\" x=\"353.416969\" xlink:href=\"#m8ad61db921\" y=\"20.951857\"/>\n    </g>\n   </g>\n   <g id=\"matplotlib.axis_1\">\n    <g id=\"xtick_1\">\n     <g id=\"line2d_1\">\n      <defs>\n       <path d=\"M 0 0 \nL 0 3.5 \n\" id=\"m53c018be34\" style=\"stroke:#000000;stroke-width:0.8;\"/>\n      </defs>\n      <g>\n       <use style=\"stroke:#000000;stroke-width:0.8;\" x=\"49.864281\" xlink:href=\"#m53c018be34\" y=\"228.14\"/>\n      </g>\n     </g>\n     <g id=\"text_1\">\n      <!-- 2 -->\n      <defs>\n       <path d=\"M 19.1875 8.296875 \nL 53.609375 8.296875 \nL 53.609375 0 \nL 7.328125 0 \nL 7.328125 8.296875 \nQ 12.9375 14.109375 22.625 23.890625 \nQ 32.328125 33.6875 34.8125 36.53125 \nQ 39.546875 41.84375 41.421875 45.53125 \nQ 43.3125 49.21875 43.3125 52.78125 \nQ 43.3125 58.59375 39.234375 62.25 \nQ 35.15625 65.921875 28.609375 65.921875 \nQ 23.96875 65.921875 18.8125 64.3125 \nQ 13.671875 62.703125 7.8125 59.421875 \nL 7.8125 69.390625 \nQ 13.765625 71.78125 18.9375 73 \nQ 24.125 74.21875 28.421875 74.21875 \nQ 39.75 74.21875 46.484375 68.546875 \nQ 53.21875 62.890625 53.21875 53.421875 \nQ 53.21875 48.921875 51.53125 44.890625 \nQ 49.859375 40.875 45.40625 35.40625 \nQ 44.1875 33.984375 37.640625 27.21875 \nQ 31.109375 20.453125 19.1875 8.296875 \nz\n\" id=\"DejaVuSans-50\"/>\n      </defs>\n      <g transform=\"translate(46.683031 242.738437)scale(0.1 -0.1)\">\n       <use xlink:href=\"#DejaVuSans-50\"/>\n      </g>\n     </g>\n    </g>\n    <g id=\"xtick_2\">\n     <g id=\"line2d_2\">\n      <g>\n       <use style=\"stroke:#000000;stroke-width:0.8;\" x=\"110.574819\" xlink:href=\"#m53c018be34\" y=\"228.14\"/>\n      </g>\n     </g>\n     <g id=\"text_2\">\n      <!-- 3 -->\n      <defs>\n       <path d=\"M 40.578125 39.3125 \nQ 47.65625 37.796875 51.625 33 \nQ 55.609375 28.21875 55.609375 21.1875 \nQ 55.609375 10.40625 48.1875 4.484375 \nQ 40.765625 -1.421875 27.09375 -1.421875 \nQ 22.515625 -1.421875 17.65625 -0.515625 \nQ 12.796875 0.390625 7.625 2.203125 \nL 7.625 11.71875 \nQ 11.71875 9.328125 16.59375 8.109375 \nQ 21.484375 6.890625 26.8125 6.890625 \nQ 36.078125 6.890625 40.9375 10.546875 \nQ 45.796875 14.203125 45.796875 21.1875 \nQ 45.796875 27.640625 41.28125 31.265625 \nQ 36.765625 34.90625 28.71875 34.90625 \nL 20.21875 34.90625 \nL 20.21875 43.015625 \nL 29.109375 43.015625 \nQ 36.375 43.015625 40.234375 45.921875 \nQ 44.09375 48.828125 44.09375 54.296875 \nQ 44.09375 59.90625 40.109375 62.90625 \nQ 36.140625 65.921875 28.71875 65.921875 \nQ 24.65625 65.921875 20.015625 65.03125 \nQ 15.375 64.15625 9.8125 62.3125 \nL 9.8125 71.09375 \nQ 15.4375 72.65625 20.34375 73.4375 \nQ 25.25 74.21875 29.59375 74.21875 \nQ 40.828125 74.21875 47.359375 69.109375 \nQ 53.90625 64.015625 53.90625 55.328125 \nQ 53.90625 49.265625 50.4375 45.09375 \nQ 46.96875 40.921875 40.578125 39.3125 \nz\n\" id=\"DejaVuSans-51\"/>\n      </defs>\n      <g transform=\"translate(107.393569 242.738437)scale(0.1 -0.1)\">\n       <use xlink:href=\"#DejaVuSans-51\"/>\n      </g>\n     </g>\n    </g>\n    <g id=\"xtick_3\">\n     <g id=\"line2d_3\">\n      <g>\n       <use style=\"stroke:#000000;stroke-width:0.8;\" x=\"171.285356\" xlink:href=\"#m53c018be34\" y=\"228.14\"/>\n      </g>\n     </g>\n     <g id=\"text_3\">\n      <!-- 4 -->\n      <defs>\n       <path d=\"M 37.796875 64.3125 \nL 12.890625 25.390625 \nL 37.796875 25.390625 \nz\nM 35.203125 72.90625 \nL 47.609375 72.90625 \nL 47.609375 25.390625 \nL 58.015625 25.390625 \nL 58.015625 17.1875 \nL 47.609375 17.1875 \nL 47.609375 0 \nL 37.796875 0 \nL 37.796875 17.1875 \nL 4.890625 17.1875 \nL 4.890625 26.703125 \nz\n\" id=\"DejaVuSans-52\"/>\n      </defs>\n      <g transform=\"translate(168.104106 242.738437)scale(0.1 -0.1)\">\n       <use xlink:href=\"#DejaVuSans-52\"/>\n      </g>\n     </g>\n    </g>\n    <g id=\"xtick_4\">\n     <g id=\"line2d_4\">\n      <g>\n       <use style=\"stroke:#000000;stroke-width:0.8;\" x=\"231.995894\" xlink:href=\"#m53c018be34\" y=\"228.14\"/>\n      </g>\n     </g>\n     <g id=\"text_4\">\n      <!-- 5 -->\n      <defs>\n       <path d=\"M 10.796875 72.90625 \nL 49.515625 72.90625 \nL 49.515625 64.59375 \nL 19.828125 64.59375 \nL 19.828125 46.734375 \nQ 21.96875 47.46875 24.109375 47.828125 \nQ 26.265625 48.1875 28.421875 48.1875 \nQ 40.625 48.1875 47.75 41.5 \nQ 54.890625 34.8125 54.890625 23.390625 \nQ 54.890625 11.625 47.5625 5.09375 \nQ 40.234375 -1.421875 26.90625 -1.421875 \nQ 22.3125 -1.421875 17.546875 -0.640625 \nQ 12.796875 0.140625 7.71875 1.703125 \nL 7.71875 11.625 \nQ 12.109375 9.234375 16.796875 8.0625 \nQ 21.484375 6.890625 26.703125 6.890625 \nQ 35.15625 6.890625 40.078125 11.328125 \nQ 45.015625 15.765625 45.015625 23.390625 \nQ 45.015625 31 40.078125 35.4375 \nQ 35.15625 39.890625 26.703125 39.890625 \nQ 22.75 39.890625 18.8125 39.015625 \nQ 14.890625 38.140625 10.796875 36.28125 \nz\n\" id=\"DejaVuSans-53\"/>\n      </defs>\n      <g transform=\"translate(228.814644 242.738437)scale(0.1 -0.1)\">\n       <use xlink:href=\"#DejaVuSans-53\"/>\n      </g>\n     </g>\n    </g>\n    <g id=\"xtick_5\">\n     <g id=\"line2d_5\">\n      <g>\n       <use style=\"stroke:#000000;stroke-width:0.8;\" x=\"292.706431\" xlink:href=\"#m53c018be34\" y=\"228.14\"/>\n      </g>\n     </g>\n     <g id=\"text_5\">\n      <!-- 6 -->\n      <defs>\n       <path d=\"M 33.015625 40.375 \nQ 26.375 40.375 22.484375 35.828125 \nQ 18.609375 31.296875 18.609375 23.390625 \nQ 18.609375 15.53125 22.484375 10.953125 \nQ 26.375 6.390625 33.015625 6.390625 \nQ 39.65625 6.390625 43.53125 10.953125 \nQ 47.40625 15.53125 47.40625 23.390625 \nQ 47.40625 31.296875 43.53125 35.828125 \nQ 39.65625 40.375 33.015625 40.375 \nz\nM 52.59375 71.296875 \nL 52.59375 62.3125 \nQ 48.875 64.0625 45.09375 64.984375 \nQ 41.3125 65.921875 37.59375 65.921875 \nQ 27.828125 65.921875 22.671875 59.328125 \nQ 17.53125 52.734375 16.796875 39.40625 \nQ 19.671875 43.65625 24.015625 45.921875 \nQ 28.375 48.1875 33.59375 48.1875 \nQ 44.578125 48.1875 50.953125 41.515625 \nQ 57.328125 34.859375 57.328125 23.390625 \nQ 57.328125 12.15625 50.6875 5.359375 \nQ 44.046875 -1.421875 33.015625 -1.421875 \nQ 20.359375 -1.421875 13.671875 8.265625 \nQ 6.984375 17.96875 6.984375 36.375 \nQ 6.984375 53.65625 15.1875 63.9375 \nQ 23.390625 74.21875 37.203125 74.21875 \nQ 40.921875 74.21875 44.703125 73.484375 \nQ 48.484375 72.75 52.59375 71.296875 \nz\n\" id=\"DejaVuSans-54\"/>\n      </defs>\n      <g transform=\"translate(289.525181 242.738437)scale(0.1 -0.1)\">\n       <use xlink:href=\"#DejaVuSans-54\"/>\n      </g>\n     </g>\n    </g>\n    <g id=\"xtick_6\">\n     <g id=\"line2d_6\">\n      <g>\n       <use style=\"stroke:#000000;stroke-width:0.8;\" x=\"353.416969\" xlink:href=\"#m53c018be34\" y=\"228.14\"/>\n      </g>\n     </g>\n     <g id=\"text_6\">\n      <!-- 7 -->\n      <defs>\n       <path d=\"M 8.203125 72.90625 \nL 55.078125 72.90625 \nL 55.078125 68.703125 \nL 28.609375 0 \nL 18.3125 0 \nL 43.21875 64.59375 \nL 8.203125 64.59375 \nz\n\" id=\"DejaVuSans-55\"/>\n      </defs>\n      <g transform=\"translate(350.235719 242.738437)scale(0.1 -0.1)\">\n       <use xlink:href=\"#DejaVuSans-55\"/>\n      </g>\n     </g>\n    </g>\n    <g id=\"text_7\">\n     <!-- Diameter (x) -->\n     <defs>\n      <path d=\"M 19.671875 64.796875 \nL 19.671875 8.109375 \nL 31.59375 8.109375 \nQ 46.6875 8.109375 53.6875 14.9375 \nQ 60.6875 21.78125 60.6875 36.53125 \nQ 60.6875 51.171875 53.6875 57.984375 \nQ 46.6875 64.796875 31.59375 64.796875 \nz\nM 9.8125 72.90625 \nL 30.078125 72.90625 \nQ 51.265625 72.90625 61.171875 64.09375 \nQ 71.09375 55.28125 71.09375 36.53125 \nQ 71.09375 17.671875 61.125 8.828125 \nQ 51.171875 0 30.078125 0 \nL 9.8125 0 \nz\n\" id=\"DejaVuSans-68\"/>\n      <path d=\"M 9.421875 54.6875 \nL 18.40625 54.6875 \nL 18.40625 0 \nL 9.421875 0 \nz\nM 9.421875 75.984375 \nL 18.40625 75.984375 \nL 18.40625 64.59375 \nL 9.421875 64.59375 \nz\n\" id=\"DejaVuSans-105\"/>\n      <path d=\"M 34.28125 27.484375 \nQ 23.390625 27.484375 19.1875 25 \nQ 14.984375 22.515625 14.984375 16.5 \nQ 14.984375 11.71875 18.140625 8.90625 \nQ 21.296875 6.109375 26.703125 6.109375 \nQ 34.1875 6.109375 38.703125 11.40625 \nQ 43.21875 16.703125 43.21875 25.484375 \nL 43.21875 27.484375 \nz\nM 52.203125 31.203125 \nL 52.203125 0 \nL 43.21875 0 \nL 43.21875 8.296875 \nQ 40.140625 3.328125 35.546875 0.953125 \nQ 30.953125 -1.421875 24.3125 -1.421875 \nQ 15.921875 -1.421875 10.953125 3.296875 \nQ 6 8.015625 6 15.921875 \nQ 6 25.140625 12.171875 29.828125 \nQ 18.359375 34.515625 30.609375 34.515625 \nL 43.21875 34.515625 \nL 43.21875 35.40625 \nQ 43.21875 41.609375 39.140625 45 \nQ 35.0625 48.390625 27.6875 48.390625 \nQ 23 48.390625 18.546875 47.265625 \nQ 14.109375 46.140625 10.015625 43.890625 \nL 10.015625 52.203125 \nQ 14.9375 54.109375 19.578125 55.046875 \nQ 24.21875 56 28.609375 56 \nQ 40.484375 56 46.34375 49.84375 \nQ 52.203125 43.703125 52.203125 31.203125 \nz\n\" id=\"DejaVuSans-97\"/>\n      <path d=\"M 52 44.1875 \nQ 55.375 50.25 60.0625 53.125 \nQ 64.75 56 71.09375 56 \nQ 79.640625 56 84.28125 50.015625 \nQ 88.921875 44.046875 88.921875 33.015625 \nL 88.921875 0 \nL 79.890625 0 \nL 79.890625 32.71875 \nQ 79.890625 40.578125 77.09375 44.375 \nQ 74.3125 48.1875 68.609375 48.1875 \nQ 61.625 48.1875 57.5625 43.546875 \nQ 53.515625 38.921875 53.515625 30.90625 \nL 53.515625 0 \nL 44.484375 0 \nL 44.484375 32.71875 \nQ 44.484375 40.625 41.703125 44.40625 \nQ 38.921875 48.1875 33.109375 48.1875 \nQ 26.21875 48.1875 22.15625 43.53125 \nQ 18.109375 38.875 18.109375 30.90625 \nL 18.109375 0 \nL 9.078125 0 \nL 9.078125 54.6875 \nL 18.109375 54.6875 \nL 18.109375 46.1875 \nQ 21.1875 51.21875 25.484375 53.609375 \nQ 29.78125 56 35.6875 56 \nQ 41.65625 56 45.828125 52.96875 \nQ 50 49.953125 52 44.1875 \nz\n\" id=\"DejaVuSans-109\"/>\n      <path d=\"M 56.203125 29.59375 \nL 56.203125 25.203125 \nL 14.890625 25.203125 \nQ 15.484375 15.921875 20.484375 11.0625 \nQ 25.484375 6.203125 34.421875 6.203125 \nQ 39.59375 6.203125 44.453125 7.46875 \nQ 49.3125 8.734375 54.109375 11.28125 \nL 54.109375 2.78125 \nQ 49.265625 0.734375 44.1875 -0.34375 \nQ 39.109375 -1.421875 33.890625 -1.421875 \nQ 20.796875 -1.421875 13.15625 6.1875 \nQ 5.515625 13.8125 5.515625 26.8125 \nQ 5.515625 40.234375 12.765625 48.109375 \nQ 20.015625 56 32.328125 56 \nQ 43.359375 56 49.78125 48.890625 \nQ 56.203125 41.796875 56.203125 29.59375 \nz\nM 47.21875 32.234375 \nQ 47.125 39.59375 43.09375 43.984375 \nQ 39.0625 48.390625 32.421875 48.390625 \nQ 24.90625 48.390625 20.390625 44.140625 \nQ 15.875 39.890625 15.1875 32.171875 \nz\n\" id=\"DejaVuSans-101\"/>\n      <path d=\"M 18.3125 70.21875 \nL 18.3125 54.6875 \nL 36.8125 54.6875 \nL 36.8125 47.703125 \nL 18.3125 47.703125 \nL 18.3125 18.015625 \nQ 18.3125 11.328125 20.140625 9.421875 \nQ 21.96875 7.515625 27.59375 7.515625 \nL 36.8125 7.515625 \nL 36.8125 0 \nL 27.59375 0 \nQ 17.1875 0 13.234375 3.875 \nQ 9.28125 7.765625 9.28125 18.015625 \nL 9.28125 47.703125 \nL 2.6875 47.703125 \nL 2.6875 54.6875 \nL 9.28125 54.6875 \nL 9.28125 70.21875 \nz\n\" id=\"DejaVuSans-116\"/>\n      <path d=\"M 41.109375 46.296875 \nQ 39.59375 47.171875 37.8125 47.578125 \nQ 36.03125 48 33.890625 48 \nQ 26.265625 48 22.1875 43.046875 \nQ 18.109375 38.09375 18.109375 28.8125 \nL 18.109375 0 \nL 9.078125 0 \nL 9.078125 54.6875 \nL 18.109375 54.6875 \nL 18.109375 46.1875 \nQ 20.953125 51.171875 25.484375 53.578125 \nQ 30.03125 56 36.53125 56 \nQ 37.453125 56 38.578125 55.875 \nQ 39.703125 55.765625 41.0625 55.515625 \nz\n\" id=\"DejaVuSans-114\"/>\n      <path id=\"DejaVuSans-32\"/>\n      <path d=\"M 31 75.875 \nQ 24.46875 64.65625 21.28125 53.65625 \nQ 18.109375 42.671875 18.109375 31.390625 \nQ 18.109375 20.125 21.3125 9.0625 \nQ 24.515625 -2 31 -13.1875 \nL 23.1875 -13.1875 \nQ 15.875 -1.703125 12.234375 9.375 \nQ 8.59375 20.453125 8.59375 31.390625 \nQ 8.59375 42.28125 12.203125 53.3125 \nQ 15.828125 64.359375 23.1875 75.875 \nz\n\" id=\"DejaVuSans-40\"/>\n      <path d=\"M 54.890625 54.6875 \nL 35.109375 28.078125 \nL 55.90625 0 \nL 45.3125 0 \nL 29.390625 21.484375 \nL 13.484375 0 \nL 2.875 0 \nL 24.125 28.609375 \nL 4.6875 54.6875 \nL 15.28125 54.6875 \nL 29.78125 35.203125 \nL 44.28125 54.6875 \nz\n\" id=\"DejaVuSans-120\"/>\n      <path d=\"M 8.015625 75.875 \nL 15.828125 75.875 \nQ 23.140625 64.359375 26.78125 53.3125 \nQ 30.421875 42.28125 30.421875 31.390625 \nQ 30.421875 20.453125 26.78125 9.375 \nQ 23.140625 -1.703125 15.828125 -13.1875 \nL 8.015625 -13.1875 \nQ 14.5 -2 17.703125 9.0625 \nQ 20.90625 20.125 20.90625 31.390625 \nQ 20.90625 42.671875 17.703125 53.65625 \nQ 14.5 64.65625 8.015625 75.875 \nz\n\" id=\"DejaVuSans-41\"/>\n     </defs>\n     <g transform=\"translate(169.848438 256.416562)scale(0.1 -0.1)\">\n      <use xlink:href=\"#DejaVuSans-68\"/>\n      <use x=\"77.001953\" xlink:href=\"#DejaVuSans-105\"/>\n      <use x=\"104.785156\" xlink:href=\"#DejaVuSans-97\"/>\n      <use x=\"166.064453\" xlink:href=\"#DejaVuSans-109\"/>\n      <use x=\"263.476562\" xlink:href=\"#DejaVuSans-101\"/>\n      <use x=\"325\" xlink:href=\"#DejaVuSans-116\"/>\n      <use x=\"364.208984\" xlink:href=\"#DejaVuSans-101\"/>\n      <use x=\"425.732422\" xlink:href=\"#DejaVuSans-114\"/>\n      <use x=\"466.845703\" xlink:href=\"#DejaVuSans-32\"/>\n      <use x=\"498.632812\" xlink:href=\"#DejaVuSans-40\"/>\n      <use x=\"537.646484\" xlink:href=\"#DejaVuSans-120\"/>\n      <use x=\"596.826172\" xlink:href=\"#DejaVuSans-41\"/>\n     </g>\n    </g>\n   </g>\n   <g id=\"matplotlib.axis_2\">\n    <g id=\"ytick_1\">\n     <g id=\"line2d_7\">\n      <defs>\n       <path d=\"M 0 0 \nL -3.5 0 \n\" id=\"m3b32d965ba\" style=\"stroke:#000000;stroke-width:0.8;\"/>\n      </defs>\n      <g>\n       <use style=\"stroke:#000000;stroke-width:0.8;\" x=\"34.240625\" xlink:href=\"#m3b32d965ba\" y=\"217.888143\"/>\n      </g>\n     </g>\n     <g id=\"text_8\">\n      <!-- 2 -->\n      <g transform=\"translate(20.878125 221.687361)scale(0.1 -0.1)\">\n       <use xlink:href=\"#DejaVuSans-50\"/>\n      </g>\n     </g>\n    </g>\n    <g id=\"ytick_2\">\n     <g id=\"line2d_8\">\n      <g>\n       <use style=\"stroke:#000000;stroke-width:0.8;\" x=\"34.240625\" xlink:href=\"#m3b32d965ba\" y=\"182.081545\"/>\n      </g>\n     </g>\n     <g id=\"text_9\">\n      <!-- 3 -->\n      <g transform=\"translate(20.878125 185.880764)scale(0.1 -0.1)\">\n       <use xlink:href=\"#DejaVuSans-51\"/>\n      </g>\n     </g>\n    </g>\n    <g id=\"ytick_3\">\n     <g id=\"line2d_9\">\n      <g>\n       <use style=\"stroke:#000000;stroke-width:0.8;\" x=\"34.240625\" xlink:href=\"#m3b32d965ba\" y=\"146.274948\"/>\n      </g>\n     </g>\n     <g id=\"text_10\">\n      <!-- 4 -->\n      <g transform=\"translate(20.878125 150.074167)scale(0.1 -0.1)\">\n       <use xlink:href=\"#DejaVuSans-52\"/>\n      </g>\n     </g>\n    </g>\n    <g id=\"ytick_4\">\n     <g id=\"line2d_10\">\n      <g>\n       <use style=\"stroke:#000000;stroke-width:0.8;\" x=\"34.240625\" xlink:href=\"#m3b32d965ba\" y=\"110.468351\"/>\n      </g>\n     </g>\n     <g id=\"text_11\">\n      <!-- 5 -->\n      <g transform=\"translate(20.878125 114.267569)scale(0.1 -0.1)\">\n       <use xlink:href=\"#DejaVuSans-53\"/>\n      </g>\n     </g>\n    </g>\n    <g id=\"ytick_5\">\n     <g id=\"line2d_11\">\n      <g>\n       <use style=\"stroke:#000000;stroke-width:0.8;\" x=\"34.240625\" xlink:href=\"#m3b32d965ba\" y=\"74.661753\"/>\n      </g>\n     </g>\n     <g id=\"text_12\">\n      <!-- 6 -->\n      <g transform=\"translate(20.878125 78.460972)scale(0.1 -0.1)\">\n       <use xlink:href=\"#DejaVuSans-54\"/>\n      </g>\n     </g>\n    </g>\n    <g id=\"ytick_6\">\n     <g id=\"line2d_12\">\n      <g>\n       <use style=\"stroke:#000000;stroke-width:0.8;\" x=\"34.240625\" xlink:href=\"#m3b32d965ba\" y=\"38.855156\"/>\n      </g>\n     </g>\n     <g id=\"text_13\">\n      <!-- 7 -->\n      <g transform=\"translate(20.878125 42.654375)scale(0.1 -0.1)\">\n       <use xlink:href=\"#DejaVuSans-55\"/>\n      </g>\n     </g>\n    </g>\n    <g id=\"text_14\">\n     <!-- Height (y) -->\n     <defs>\n      <path d=\"M 9.8125 72.90625 \nL 19.671875 72.90625 \nL 19.671875 43.015625 \nL 55.515625 43.015625 \nL 55.515625 72.90625 \nL 65.375 72.90625 \nL 65.375 0 \nL 55.515625 0 \nL 55.515625 34.71875 \nL 19.671875 34.71875 \nL 19.671875 0 \nL 9.8125 0 \nz\n\" id=\"DejaVuSans-72\"/>\n      <path d=\"M 45.40625 27.984375 \nQ 45.40625 37.75 41.375 43.109375 \nQ 37.359375 48.484375 30.078125 48.484375 \nQ 22.859375 48.484375 18.828125 43.109375 \nQ 14.796875 37.75 14.796875 27.984375 \nQ 14.796875 18.265625 18.828125 12.890625 \nQ 22.859375 7.515625 30.078125 7.515625 \nQ 37.359375 7.515625 41.375 12.890625 \nQ 45.40625 18.265625 45.40625 27.984375 \nz\nM 54.390625 6.78125 \nQ 54.390625 -7.171875 48.1875 -13.984375 \nQ 42 -20.796875 29.203125 -20.796875 \nQ 24.46875 -20.796875 20.265625 -20.09375 \nQ 16.0625 -19.390625 12.109375 -17.921875 \nL 12.109375 -9.1875 \nQ 16.0625 -11.328125 19.921875 -12.34375 \nQ 23.78125 -13.375 27.78125 -13.375 \nQ 36.625 -13.375 41.015625 -8.765625 \nQ 45.40625 -4.15625 45.40625 5.171875 \nL 45.40625 9.625 \nQ 42.625 4.78125 38.28125 2.390625 \nQ 33.9375 0 27.875 0 \nQ 17.828125 0 11.671875 7.65625 \nQ 5.515625 15.328125 5.515625 27.984375 \nQ 5.515625 40.671875 11.671875 48.328125 \nQ 17.828125 56 27.875 56 \nQ 33.9375 56 38.28125 53.609375 \nQ 42.625 51.21875 45.40625 46.390625 \nL 45.40625 54.6875 \nL 54.390625 54.6875 \nz\n\" id=\"DejaVuSans-103\"/>\n      <path d=\"M 54.890625 33.015625 \nL 54.890625 0 \nL 45.90625 0 \nL 45.90625 32.71875 \nQ 45.90625 40.484375 42.875 44.328125 \nQ 39.84375 48.1875 33.796875 48.1875 \nQ 26.515625 48.1875 22.3125 43.546875 \nQ 18.109375 38.921875 18.109375 30.90625 \nL 18.109375 0 \nL 9.078125 0 \nL 9.078125 75.984375 \nL 18.109375 75.984375 \nL 18.109375 46.1875 \nQ 21.34375 51.125 25.703125 53.5625 \nQ 30.078125 56 35.796875 56 \nQ 45.21875 56 50.046875 50.171875 \nQ 54.890625 44.34375 54.890625 33.015625 \nz\n\" id=\"DejaVuSans-104\"/>\n      <path d=\"M 32.171875 -5.078125 \nQ 28.375 -14.84375 24.75 -17.8125 \nQ 21.140625 -20.796875 15.09375 -20.796875 \nL 7.90625 -20.796875 \nL 7.90625 -13.28125 \nL 13.1875 -13.28125 \nQ 16.890625 -13.28125 18.9375 -11.515625 \nQ 21 -9.765625 23.484375 -3.21875 \nL 25.09375 0.875 \nL 2.984375 54.6875 \nL 12.5 54.6875 \nL 29.59375 11.921875 \nL 46.6875 54.6875 \nL 56.203125 54.6875 \nz\n\" id=\"DejaVuSans-121\"/>\n     </defs>\n     <g transform=\"translate(14.798437 144.398906)rotate(-90)scale(0.1 -0.1)\">\n      <use xlink:href=\"#DejaVuSans-72\"/>\n      <use x=\"75.195312\" xlink:href=\"#DejaVuSans-101\"/>\n      <use x=\"136.71875\" xlink:href=\"#DejaVuSans-105\"/>\n      <use x=\"164.501953\" xlink:href=\"#DejaVuSans-103\"/>\n      <use x=\"227.978516\" xlink:href=\"#DejaVuSans-104\"/>\n      <use x=\"291.357422\" xlink:href=\"#DejaVuSans-116\"/>\n      <use x=\"330.566406\" xlink:href=\"#DejaVuSans-32\"/>\n      <use x=\"362.353516\" xlink:href=\"#DejaVuSans-40\"/>\n      <use x=\"401.367188\" xlink:href=\"#DejaVuSans-121\"/>\n      <use x=\"460.546875\" xlink:href=\"#DejaVuSans-41\"/>\n     </g>\n    </g>\n   </g>\n   <g id=\"patch_3\">\n    <path d=\"M 34.240625 228.14 \nL 34.240625 10.7 \n\" style=\"fill:none;stroke:#000000;stroke-linecap:square;stroke-linejoin:miter;stroke-width:0.8;\"/>\n   </g>\n   <g id=\"patch_4\">\n    <path d=\"M 369.040625 228.14 \nL 369.040625 10.7 \n\" style=\"fill:none;stroke:#000000;stroke-linecap:square;stroke-linejoin:miter;stroke-width:0.8;\"/>\n   </g>\n   <g id=\"patch_5\">\n    <path d=\"M 34.240625 228.14 \nL 369.040625 228.14 \n\" style=\"fill:none;stroke:#000000;stroke-linecap:square;stroke-linejoin:miter;stroke-width:0.8;\"/>\n   </g>\n   <g id=\"patch_6\">\n    <path d=\"M 34.240625 10.7 \nL 369.040625 10.7 \n\" style=\"fill:none;stroke:#000000;stroke-linecap:square;stroke-linejoin:miter;stroke-width:0.8;\"/>\n   </g>\n  </g>\n </g>\n <defs>\n  <clipPath id=\"p59644542e5\">\n   <rect height=\"217.44\" width=\"334.8\" x=\"34.240625\" y=\"10.7\"/>\n  </clipPath>\n </defs>\n</svg>\n",
      "text/plain": "<Figure size 432x288 with 1 Axes>"
     },
     "metadata": {
      "needs_background": "light"
     },
     "output_type": "display_data"
    }
   ],
   "source": [
    "df_tree.plot.scatter(x='Diameter (x)', y='Height (y)')"
   ]
  },
  {
   "cell_type": "markdown",
   "execution_count": null,
   "metadata": {},
   "outputs": [],
   "source": [
    "### ii) 樹高を胸高直径へ回帰する\n"
   ]
  },
  {
   "cell_type": "markdown",
   "execution_count": null,
   "metadata": {},
   "outputs": [],
   "source": [
    "#### 解析的に解いた場合"
   ]
  },
  {
   "cell_type": "code",
   "execution_count": 4,
   "metadata": {},
   "outputs": [
    {
     "name": "stdout",
     "output_type": "stream",
     "text": "x: 4.241379310344827, y: 4.681034482758621\n"
    }
   ],
   "source": [
    "# 胸高直径x, 樹高yの標本平均\n",
    "mean_x = df_tree['Diameter (x)'].mean()\n",
    "mean_y = df_tree['Height (y)'].mean()\n",
    "print(f'x: {mean_x}, y: {mean_y}')"
   ]
  },
  {
   "cell_type": "code",
   "execution_count": 5,
   "metadata": {},
   "outputs": [
    {
     "data": {
      "text/html": "<div>\n<style scoped>\n    .dataframe tbody tr th:only-of-type {\n        vertical-align: middle;\n    }\n\n    .dataframe tbody tr th {\n        vertical-align: top;\n    }\n\n    .dataframe thead th {\n        text-align: right;\n    }\n</style>\n<table border=\"1\" class=\"dataframe\">\n  <thead>\n    <tr style=\"text-align: right;\">\n      <th></th>\n      <th>Diameter (x)</th>\n      <th>Height (y)</th>\n      <th>x_i-mean_x</th>\n      <th>y_i-mean_y</th>\n      <th>(x_i-mean_x)^2</th>\n      <th>(x_i-mean_x)(y_i-mean_y)</th>\n    </tr>\n  </thead>\n  <tbody>\n    <tr>\n      <th>0</th>\n      <td>2.0</td>\n      <td>2.0</td>\n      <td>-2.241379</td>\n      <td>-2.681034</td>\n      <td>5.023781</td>\n      <td>6.009215</td>\n    </tr>\n    <tr>\n      <th>1</th>\n      <td>2.0</td>\n      <td>2.5</td>\n      <td>-2.241379</td>\n      <td>-2.181034</td>\n      <td>5.023781</td>\n      <td>4.888526</td>\n    </tr>\n    <tr>\n      <th>2</th>\n      <td>2.0</td>\n      <td>2.5</td>\n      <td>-2.241379</td>\n      <td>-2.181034</td>\n      <td>5.023781</td>\n      <td>4.888526</td>\n    </tr>\n    <tr>\n      <th>3</th>\n      <td>2.0</td>\n      <td>3.0</td>\n      <td>-2.241379</td>\n      <td>-1.681034</td>\n      <td>5.023781</td>\n      <td>3.767836</td>\n    </tr>\n    <tr>\n      <th>4</th>\n      <td>2.5</td>\n      <td>2.0</td>\n      <td>-1.741379</td>\n      <td>-2.681034</td>\n      <td>3.032402</td>\n      <td>4.668698</td>\n    </tr>\n    <tr>\n      <th>5</th>\n      <td>2.5</td>\n      <td>2.5</td>\n      <td>-1.741379</td>\n      <td>-2.181034</td>\n      <td>3.032402</td>\n      <td>3.798008</td>\n    </tr>\n    <tr>\n      <th>6</th>\n      <td>2.5</td>\n      <td>3.0</td>\n      <td>-1.741379</td>\n      <td>-1.681034</td>\n      <td>3.032402</td>\n      <td>2.927319</td>\n    </tr>\n    <tr>\n      <th>7</th>\n      <td>2.5</td>\n      <td>3.0</td>\n      <td>-1.741379</td>\n      <td>-1.681034</td>\n      <td>3.032402</td>\n      <td>2.927319</td>\n    </tr>\n    <tr>\n      <th>8</th>\n      <td>2.5</td>\n      <td>3.0</td>\n      <td>-1.741379</td>\n      <td>-1.681034</td>\n      <td>3.032402</td>\n      <td>2.927319</td>\n    </tr>\n    <tr>\n      <th>9</th>\n      <td>2.5</td>\n      <td>3.5</td>\n      <td>-1.741379</td>\n      <td>-1.181034</td>\n      <td>3.032402</td>\n      <td>2.056629</td>\n    </tr>\n    <tr>\n      <th>10</th>\n      <td>3.0</td>\n      <td>2.5</td>\n      <td>-1.241379</td>\n      <td>-2.181034</td>\n      <td>1.541023</td>\n      <td>2.707491</td>\n    </tr>\n    <tr>\n      <th>11</th>\n      <td>3.0</td>\n      <td>3.0</td>\n      <td>-1.241379</td>\n      <td>-1.681034</td>\n      <td>1.541023</td>\n      <td>2.086801</td>\n    </tr>\n    <tr>\n      <th>12</th>\n      <td>3.0</td>\n      <td>3.0</td>\n      <td>-1.241379</td>\n      <td>-1.681034</td>\n      <td>1.541023</td>\n      <td>2.086801</td>\n    </tr>\n    <tr>\n      <th>13</th>\n      <td>3.0</td>\n      <td>3.5</td>\n      <td>-1.241379</td>\n      <td>-1.181034</td>\n      <td>1.541023</td>\n      <td>1.466112</td>\n    </tr>\n    <tr>\n      <th>14</th>\n      <td>3.0</td>\n      <td>3.5</td>\n      <td>-1.241379</td>\n      <td>-1.181034</td>\n      <td>1.541023</td>\n      <td>1.466112</td>\n    </tr>\n    <tr>\n      <th>15</th>\n      <td>3.0</td>\n      <td>4.0</td>\n      <td>-1.241379</td>\n      <td>-0.681034</td>\n      <td>1.541023</td>\n      <td>0.845422</td>\n    </tr>\n    <tr>\n      <th>16</th>\n      <td>3.0</td>\n      <td>4.5</td>\n      <td>-1.241379</td>\n      <td>-0.181034</td>\n      <td>1.541023</td>\n      <td>0.224732</td>\n    </tr>\n    <tr>\n      <th>17</th>\n      <td>3.5</td>\n      <td>3.0</td>\n      <td>-0.741379</td>\n      <td>-1.681034</td>\n      <td>0.549643</td>\n      <td>1.246284</td>\n    </tr>\n    <tr>\n      <th>18</th>\n      <td>3.5</td>\n      <td>3.5</td>\n      <td>-0.741379</td>\n      <td>-1.181034</td>\n      <td>0.549643</td>\n      <td>0.875595</td>\n    </tr>\n    <tr>\n      <th>19</th>\n      <td>3.5</td>\n      <td>4.0</td>\n      <td>-0.741379</td>\n      <td>-0.681034</td>\n      <td>0.549643</td>\n      <td>0.504905</td>\n    </tr>\n    <tr>\n      <th>20</th>\n      <td>3.5</td>\n      <td>4.5</td>\n      <td>-0.741379</td>\n      <td>-0.181034</td>\n      <td>0.549643</td>\n      <td>0.134215</td>\n    </tr>\n    <tr>\n      <th>21</th>\n      <td>3.5</td>\n      <td>5.0</td>\n      <td>-0.741379</td>\n      <td>0.318966</td>\n      <td>0.549643</td>\n      <td>-0.236474</td>\n    </tr>\n    <tr>\n      <th>22</th>\n      <td>3.5</td>\n      <td>5.5</td>\n      <td>-0.741379</td>\n      <td>0.818966</td>\n      <td>0.549643</td>\n      <td>-0.607164</td>\n    </tr>\n    <tr>\n      <th>23</th>\n      <td>4.0</td>\n      <td>3.5</td>\n      <td>-0.241379</td>\n      <td>-1.181034</td>\n      <td>0.058264</td>\n      <td>0.285077</td>\n    </tr>\n    <tr>\n      <th>24</th>\n      <td>4.0</td>\n      <td>4.0</td>\n      <td>-0.241379</td>\n      <td>-0.681034</td>\n      <td>0.058264</td>\n      <td>0.164388</td>\n    </tr>\n    <tr>\n      <th>25</th>\n      <td>4.0</td>\n      <td>4.5</td>\n      <td>-0.241379</td>\n      <td>-0.181034</td>\n      <td>0.058264</td>\n      <td>0.043698</td>\n    </tr>\n    <tr>\n      <th>26</th>\n      <td>4.0</td>\n      <td>4.5</td>\n      <td>-0.241379</td>\n      <td>-0.181034</td>\n      <td>0.058264</td>\n      <td>0.043698</td>\n    </tr>\n    <tr>\n      <th>27</th>\n      <td>4.0</td>\n      <td>5.0</td>\n      <td>-0.241379</td>\n      <td>0.318966</td>\n      <td>0.058264</td>\n      <td>-0.076992</td>\n    </tr>\n    <tr>\n      <th>28</th>\n      <td>4.0</td>\n      <td>5.5</td>\n      <td>-0.241379</td>\n      <td>0.818966</td>\n      <td>0.058264</td>\n      <td>-0.197681</td>\n    </tr>\n    <tr>\n      <th>29</th>\n      <td>4.0</td>\n      <td>5.5</td>\n      <td>-0.241379</td>\n      <td>0.818966</td>\n      <td>0.058264</td>\n      <td>-0.197681</td>\n    </tr>\n    <tr>\n      <th>30</th>\n      <td>4.5</td>\n      <td>4.0</td>\n      <td>0.258621</td>\n      <td>-0.681034</td>\n      <td>0.066885</td>\n      <td>-0.176130</td>\n    </tr>\n    <tr>\n      <th>31</th>\n      <td>4.5</td>\n      <td>4.5</td>\n      <td>0.258621</td>\n      <td>-0.181034</td>\n      <td>0.066885</td>\n      <td>-0.046819</td>\n    </tr>\n    <tr>\n      <th>32</th>\n      <td>4.5</td>\n      <td>5.0</td>\n      <td>0.258621</td>\n      <td>0.318966</td>\n      <td>0.066885</td>\n      <td>0.082491</td>\n    </tr>\n    <tr>\n      <th>33</th>\n      <td>4.5</td>\n      <td>5.0</td>\n      <td>0.258621</td>\n      <td>0.318966</td>\n      <td>0.066885</td>\n      <td>0.082491</td>\n    </tr>\n    <tr>\n      <th>34</th>\n      <td>4.5</td>\n      <td>5.5</td>\n      <td>0.258621</td>\n      <td>0.818966</td>\n      <td>0.066885</td>\n      <td>0.211801</td>\n    </tr>\n    <tr>\n      <th>35</th>\n      <td>4.5</td>\n      <td>5.5</td>\n      <td>0.258621</td>\n      <td>0.818966</td>\n      <td>0.066885</td>\n      <td>0.211801</td>\n    </tr>\n    <tr>\n      <th>36</th>\n      <td>5.0</td>\n      <td>6.0</td>\n      <td>0.758621</td>\n      <td>1.318966</td>\n      <td>0.575505</td>\n      <td>1.000595</td>\n    </tr>\n    <tr>\n      <th>37</th>\n      <td>5.0</td>\n      <td>4.5</td>\n      <td>0.758621</td>\n      <td>-0.181034</td>\n      <td>0.575505</td>\n      <td>-0.137337</td>\n    </tr>\n    <tr>\n      <th>38</th>\n      <td>5.0</td>\n      <td>5.0</td>\n      <td>0.758621</td>\n      <td>0.318966</td>\n      <td>0.575505</td>\n      <td>0.241974</td>\n    </tr>\n    <tr>\n      <th>39</th>\n      <td>5.0</td>\n      <td>5.5</td>\n      <td>0.758621</td>\n      <td>0.818966</td>\n      <td>0.575505</td>\n      <td>0.621284</td>\n    </tr>\n    <tr>\n      <th>40</th>\n      <td>5.0</td>\n      <td>6.0</td>\n      <td>0.758621</td>\n      <td>1.318966</td>\n      <td>0.575505</td>\n      <td>1.000595</td>\n    </tr>\n    <tr>\n      <th>41</th>\n      <td>5.0</td>\n      <td>6.5</td>\n      <td>0.758621</td>\n      <td>1.818966</td>\n      <td>0.575505</td>\n      <td>1.379905</td>\n    </tr>\n    <tr>\n      <th>42</th>\n      <td>5.5</td>\n      <td>5.0</td>\n      <td>1.258621</td>\n      <td>0.318966</td>\n      <td>1.584126</td>\n      <td>0.401457</td>\n    </tr>\n    <tr>\n      <th>43</th>\n      <td>5.5</td>\n      <td>5.5</td>\n      <td>1.258621</td>\n      <td>0.818966</td>\n      <td>1.584126</td>\n      <td>1.030767</td>\n    </tr>\n    <tr>\n      <th>44</th>\n      <td>5.5</td>\n      <td>5.5</td>\n      <td>1.258621</td>\n      <td>0.818966</td>\n      <td>1.584126</td>\n      <td>1.030767</td>\n    </tr>\n    <tr>\n      <th>45</th>\n      <td>5.5</td>\n      <td>6.0</td>\n      <td>1.258621</td>\n      <td>1.318966</td>\n      <td>1.584126</td>\n      <td>1.660077</td>\n    </tr>\n    <tr>\n      <th>46</th>\n      <td>5.5</td>\n      <td>6.5</td>\n      <td>1.258621</td>\n      <td>1.818966</td>\n      <td>1.584126</td>\n      <td>2.289388</td>\n    </tr>\n    <tr>\n      <th>47</th>\n      <td>5.5</td>\n      <td>7.0</td>\n      <td>1.258621</td>\n      <td>2.318966</td>\n      <td>1.584126</td>\n      <td>2.918698</td>\n    </tr>\n    <tr>\n      <th>48</th>\n      <td>6.0</td>\n      <td>5.5</td>\n      <td>1.758621</td>\n      <td>0.818966</td>\n      <td>3.092747</td>\n      <td>1.440250</td>\n    </tr>\n    <tr>\n      <th>49</th>\n      <td>6.0</td>\n      <td>5.5</td>\n      <td>1.758621</td>\n      <td>0.818966</td>\n      <td>3.092747</td>\n      <td>1.440250</td>\n    </tr>\n    <tr>\n      <th>50</th>\n      <td>6.0</td>\n      <td>6.0</td>\n      <td>1.758621</td>\n      <td>1.318966</td>\n      <td>3.092747</td>\n      <td>2.319560</td>\n    </tr>\n    <tr>\n      <th>51</th>\n      <td>6.0</td>\n      <td>6.5</td>\n      <td>1.758621</td>\n      <td>1.818966</td>\n      <td>3.092747</td>\n      <td>3.198870</td>\n    </tr>\n    <tr>\n      <th>52</th>\n      <td>6.0</td>\n      <td>7.0</td>\n      <td>1.758621</td>\n      <td>2.318966</td>\n      <td>3.092747</td>\n      <td>4.078181</td>\n    </tr>\n    <tr>\n      <th>53</th>\n      <td>6.5</td>\n      <td>5.5</td>\n      <td>2.258621</td>\n      <td>0.818966</td>\n      <td>5.101367</td>\n      <td>1.849732</td>\n    </tr>\n    <tr>\n      <th>54</th>\n      <td>6.5</td>\n      <td>6.5</td>\n      <td>2.258621</td>\n      <td>1.818966</td>\n      <td>5.101367</td>\n      <td>4.108353</td>\n    </tr>\n    <tr>\n      <th>55</th>\n      <td>6.5</td>\n      <td>7.0</td>\n      <td>2.258621</td>\n      <td>2.318966</td>\n      <td>5.101367</td>\n      <td>5.237663</td>\n    </tr>\n    <tr>\n      <th>56</th>\n      <td>6.5</td>\n      <td>7.0</td>\n      <td>2.258621</td>\n      <td>2.318966</td>\n      <td>5.101367</td>\n      <td>5.237663</td>\n    </tr>\n    <tr>\n      <th>57</th>\n      <td>7.0</td>\n      <td>7.5</td>\n      <td>2.758621</td>\n      <td>2.818966</td>\n      <td>7.609988</td>\n      <td>7.776457</td>\n    </tr>\n  </tbody>\n</table>\n</div>",
      "text/plain": "    Diameter (x)  Height (y)  x_i-mean_x  y_i-mean_y  (x_i-mean_x)^2  \\\n0            2.0         2.0   -2.241379   -2.681034        5.023781   \n1            2.0         2.5   -2.241379   -2.181034        5.023781   \n2            2.0         2.5   -2.241379   -2.181034        5.023781   \n3            2.0         3.0   -2.241379   -1.681034        5.023781   \n4            2.5         2.0   -1.741379   -2.681034        3.032402   \n5            2.5         2.5   -1.741379   -2.181034        3.032402   \n6            2.5         3.0   -1.741379   -1.681034        3.032402   \n7            2.5         3.0   -1.741379   -1.681034        3.032402   \n8            2.5         3.0   -1.741379   -1.681034        3.032402   \n9            2.5         3.5   -1.741379   -1.181034        3.032402   \n10           3.0         2.5   -1.241379   -2.181034        1.541023   \n11           3.0         3.0   -1.241379   -1.681034        1.541023   \n12           3.0         3.0   -1.241379   -1.681034        1.541023   \n13           3.0         3.5   -1.241379   -1.181034        1.541023   \n14           3.0         3.5   -1.241379   -1.181034        1.541023   \n15           3.0         4.0   -1.241379   -0.681034        1.541023   \n16           3.0         4.5   -1.241379   -0.181034        1.541023   \n17           3.5         3.0   -0.741379   -1.681034        0.549643   \n18           3.5         3.5   -0.741379   -1.181034        0.549643   \n19           3.5         4.0   -0.741379   -0.681034        0.549643   \n20           3.5         4.5   -0.741379   -0.181034        0.549643   \n21           3.5         5.0   -0.741379    0.318966        0.549643   \n22           3.5         5.5   -0.741379    0.818966        0.549643   \n23           4.0         3.5   -0.241379   -1.181034        0.058264   \n24           4.0         4.0   -0.241379   -0.681034        0.058264   \n25           4.0         4.5   -0.241379   -0.181034        0.058264   \n26           4.0         4.5   -0.241379   -0.181034        0.058264   \n27           4.0         5.0   -0.241379    0.318966        0.058264   \n28           4.0         5.5   -0.241379    0.818966        0.058264   \n29           4.0         5.5   -0.241379    0.818966        0.058264   \n30           4.5         4.0    0.258621   -0.681034        0.066885   \n31           4.5         4.5    0.258621   -0.181034        0.066885   \n32           4.5         5.0    0.258621    0.318966        0.066885   \n33           4.5         5.0    0.258621    0.318966        0.066885   \n34           4.5         5.5    0.258621    0.818966        0.066885   \n35           4.5         5.5    0.258621    0.818966        0.066885   \n36           5.0         6.0    0.758621    1.318966        0.575505   \n37           5.0         4.5    0.758621   -0.181034        0.575505   \n38           5.0         5.0    0.758621    0.318966        0.575505   \n39           5.0         5.5    0.758621    0.818966        0.575505   \n40           5.0         6.0    0.758621    1.318966        0.575505   \n41           5.0         6.5    0.758621    1.818966        0.575505   \n42           5.5         5.0    1.258621    0.318966        1.584126   \n43           5.5         5.5    1.258621    0.818966        1.584126   \n44           5.5         5.5    1.258621    0.818966        1.584126   \n45           5.5         6.0    1.258621    1.318966        1.584126   \n46           5.5         6.5    1.258621    1.818966        1.584126   \n47           5.5         7.0    1.258621    2.318966        1.584126   \n48           6.0         5.5    1.758621    0.818966        3.092747   \n49           6.0         5.5    1.758621    0.818966        3.092747   \n50           6.0         6.0    1.758621    1.318966        3.092747   \n51           6.0         6.5    1.758621    1.818966        3.092747   \n52           6.0         7.0    1.758621    2.318966        3.092747   \n53           6.5         5.5    2.258621    0.818966        5.101367   \n54           6.5         6.5    2.258621    1.818966        5.101367   \n55           6.5         7.0    2.258621    2.318966        5.101367   \n56           6.5         7.0    2.258621    2.318966        5.101367   \n57           7.0         7.5    2.758621    2.818966        7.609988   \n\n    (x_i-mean_x)(y_i-mean_y)  \n0                   6.009215  \n1                   4.888526  \n2                   4.888526  \n3                   3.767836  \n4                   4.668698  \n5                   3.798008  \n6                   2.927319  \n7                   2.927319  \n8                   2.927319  \n9                   2.056629  \n10                  2.707491  \n11                  2.086801  \n12                  2.086801  \n13                  1.466112  \n14                  1.466112  \n15                  0.845422  \n16                  0.224732  \n17                  1.246284  \n18                  0.875595  \n19                  0.504905  \n20                  0.134215  \n21                 -0.236474  \n22                 -0.607164  \n23                  0.285077  \n24                  0.164388  \n25                  0.043698  \n26                  0.043698  \n27                 -0.076992  \n28                 -0.197681  \n29                 -0.197681  \n30                 -0.176130  \n31                 -0.046819  \n32                  0.082491  \n33                  0.082491  \n34                  0.211801  \n35                  0.211801  \n36                  1.000595  \n37                 -0.137337  \n38                  0.241974  \n39                  0.621284  \n40                  1.000595  \n41                  1.379905  \n42                  0.401457  \n43                  1.030767  \n44                  1.030767  \n45                  1.660077  \n46                  2.289388  \n47                  2.918698  \n48                  1.440250  \n49                  1.440250  \n50                  2.319560  \n51                  3.198870  \n52                  4.078181  \n53                  1.849732  \n54                  4.108353  \n55                  5.237663  \n56                  5.237663  \n57                  7.776457  "
     },
     "execution_count": 5,
     "metadata": {},
     "output_type": "execute_result"
    }
   ],
   "source": [
    "import numpy as np\n",
    "# 計算準備\n",
    "df_tree['x_i-mean_x'] = df_tree['Diameter (x)'] - mean_x\n",
    "df_tree['y_i-mean_y'] = df_tree['Height (y)'] - mean_y\n",
    "df_tree['(x_i-mean_x)^2'] = df_tree['x_i-mean_x'].apply(lambda x: x**2)\n",
    "df_tree['(x_i-mean_x)(y_i-mean_y)'] = df_tree['x_i-mean_x'] * df_tree['y_i-mean_y']\n",
    "df_tree\n"
   ]
  },
  {
   "cell_type": "code",
   "execution_count": 6,
   "metadata": {},
   "outputs": [
    {
     "name": "stdout",
     "output_type": "stream",
     "text": "β2_estimated: 0.9324473104749922,\nβ1_estimated: 0.7261717521233093\n"
    }
   ],
   "source": [
    "# 標本回帰係数\n",
    "beta2_est = df_tree['(x_i-mean_x)(y_i-mean_y)'].sum() / \\\n",
    "    df_tree['(x_i-mean_x)^2'].sum()\n",
    "beta1_est = mean_y - beta2_est*mean_x\n",
    "\n",
    "print(f'β2_estimated: {beta2_est},\\nβ1_estimated: {beta1_est}')"
   ]
  },
  {
   "cell_type": "markdown",
   "execution_count": null,
   "metadata": {},
   "outputs": [],
   "source": [
    "A. 胸高直径x, 樹高yの標本回帰方程式（標本回帰直線）は次の通り\n",
    "\n",
    "`y = 0.932x + 0.726`"
   ]
  },
  {
   "cell_type": "markdown",
   "execution_count": null,
   "metadata": {},
   "outputs": [],
   "source": [
    "#### ライブラリ，フレームワークを用いた場合"
   ]
  },
  {
   "cell_type": "code",
   "execution_count": 7,
   "metadata": {},
   "outputs": [
    {
     "name": "stdout",
     "output_type": "stream",
     "text": "β2_estimated: 0.9324473104749922,\nβ1_estimated: 0.7261717521233093\n"
    }
   ],
   "source": [
    "from sklearn import linear_model\n",
    "reg = linear_model.LinearRegression()\n",
    "\n",
    "x = df_tree['Diameter (x)'].values.reshape(-1, 1)\n",
    "y = df_tree['Height (y)'].values\n",
    "\n",
    "reg.fit(x, y)\n",
    "\n",
    "print(f'β2_estimated: {reg.coef_[0]},\\nβ1_estimated: {reg.intercept_}')"
   ]
  },
  {
   "cell_type": "markdown",
   "execution_count": 50,
   "metadata": {},
   "outputs": [
    {
     "data": {
      "text/plain": "['__abstractmethods__',\n '__class__',\n '__delattr__',\n '__dict__',\n '__dir__',\n '__doc__',\n '__eq__',\n '__format__',\n '__ge__',\n '__getattribute__',\n '__getstate__',\n '__gt__',\n '__hash__',\n '__init__',\n '__init_subclass__',\n '__le__',\n '__lt__',\n '__module__',\n '__ne__',\n '__new__',\n '__reduce__',\n '__reduce_ex__',\n '__repr__',\n '__setattr__',\n '__setstate__',\n '__sizeof__',\n '__str__',\n '__subclasshook__',\n '__weakref__',\n '_abc_impl',\n '_decision_function',\n '_estimator_type',\n '_get_param_names',\n '_preprocess_data',\n '_residues',\n '_set_intercept',\n 'coef_',\n 'copy_X',\n 'fit',\n 'fit_intercept',\n 'get_params',\n 'intercept_',\n 'n_jobs',\n 'normalize',\n 'predict',\n 'rank_',\n 'score',\n 'set_params',\n 'singular_']"
     },
     "execution_count": 50,
     "metadata": {},
     "output_type": "execute_result"
    }
   ],
   "source": [
    "解析解とほぼ一致している"
   ]
  },
  {
   "cell_type": "markdown",
   "execution_count": null,
   "metadata": {},
   "outputs": [],
   "source": [
    "### iii) 胸高直径が1寸伸びれば樹高が0.9尺だけ高くなるかを有意水準5%で仮説検定する"
   ]
  },
  {
   "cell_type": "markdown",
   "execution_count": null,
   "metadata": {},
   "outputs": [],
   "source": [
    "偏回帰係数 β2（回帰直線の傾き）\n",
    "- 帰無仮説 H0: β2 == 0.9\n",
    "- 対立仮説 H1: β2 != 0.9\n"
   ]
  },
  {
   "cell_type": "code",
   "execution_count": 8,
   "metadata": {},
   "outputs": [],
   "source": [
    "beta2 = 0.9"
   ]
  },
  {
   "cell_type": "code",
   "execution_count": 9,
   "metadata": {},
   "outputs": [
    {
     "name": "stdout",
     "output_type": "stream",
     "text": "β2_estimatedの標準誤差:  0.06322432526628806\nt統計量:  0.5132092804206397\nt_0.025(56): 2.000\nA: |0.5132092804206397| < t_0.025(56)より，有意水準5%で帰無仮説H0は棄却されない\n"
    }
   ],
   "source": [
    "# yの推論値 y_predをiiで求めた回帰方程式より求める\n",
    "df_tree['y_pred'] = beta2_est*df_tree['Diameter (x)'] + beta1_est\n",
    "# β2_estの標準誤差 standard error\n",
    "df_tree['y_diff'] = df_tree['Height (y)'] - df_tree['y_pred']\n",
    "df_tree['y_diff_squared'] = df_tree['y_diff'].apply(lambda y_diff: y_diff**2)\n",
    "s_squared = df_tree['y_diff_squared'].sum() / (n_sample-2)\n",
    "se = np.sqrt(s_squared)\n",
    "se_for_beta2_est = se / np.sqrt(df_tree['(x_i-mean_x)^2'].sum())\n",
    "print('β2_estimatedの標準誤差: ', se_for_beta2_est)\n",
    "# t統計量\n",
    "t = (beta2_est - beta2) / se_for_beta2_est\n",
    "print('t統計量: ', t)\n",
    "# t分布のパーセント点 t_0.025(n-2) \n",
    "print(f't_0.025({n_sample-2}): 2.000') # 自由度60で近似\n",
    "# |t|とt_0.025(n-2)の比較\n",
    "print(f'A: |{t}| < t_0.025(56)より，有意水準5%で帰無仮説H0は棄却されない') "
   ]
  },
  {
   "cell_type": "markdown",
   "execution_count": null,
   "metadata": {},
   "outputs": [],
   "source": [
    "### iv) 標本回帰直線から`2s.e.`以上外れる樹木はあるか"
   ]
  },
  {
   "cell_type": "code",
   "execution_count": 10,
   "metadata": {},
   "outputs": [
    {
     "data": {
      "text/html": "<div>\n<style scoped>\n    .dataframe tbody tr th:only-of-type {\n        vertical-align: middle;\n    }\n\n    .dataframe tbody tr th {\n        vertical-align: top;\n    }\n\n    .dataframe thead th {\n        text-align: right;\n    }\n</style>\n<table border=\"1\" class=\"dataframe\">\n  <thead>\n    <tr style=\"text-align: right;\">\n      <th></th>\n      <th>Diameter (x)</th>\n      <th>Height (y)</th>\n      <th>x_i-mean_x</th>\n      <th>y_i-mean_y</th>\n      <th>(x_i-mean_x)^2</th>\n      <th>(x_i-mean_x)(y_i-mean_y)</th>\n      <th>y_pred</th>\n      <th>y_diff</th>\n      <th>y_diff_squared</th>\n    </tr>\n  </thead>\n  <tbody>\n    <tr>\n      <th>22</th>\n      <td>3.5</td>\n      <td>5.5</td>\n      <td>-0.741379</td>\n      <td>0.818966</td>\n      <td>0.549643</td>\n      <td>-0.607164</td>\n      <td>3.989737</td>\n      <td>1.510263</td>\n      <td>2.280893</td>\n    </tr>\n  </tbody>\n</table>\n</div>",
      "text/plain": "    Diameter (x)  Height (y)  x_i-mean_x  y_i-mean_y  (x_i-mean_x)^2  \\\n22           3.5         5.5   -0.741379    0.818966        0.549643   \n\n    (x_i-mean_x)(y_i-mean_y)    y_pred    y_diff  y_diff_squared  \n22                 -0.607164  3.989737  1.510263        2.280893  "
     },
     "execution_count": 10,
     "metadata": {},
     "output_type": "execute_result"
    }
   ],
   "source": [
    "df_tree[df_tree['y_diff'] >= 2*se]"
   ]
  },
  {
   "cell_type": "code",
   "execution_count": 11,
   "metadata": {},
   "outputs": [
    {
     "name": "stdout",
     "output_type": "stream",
     "text": "A: ある．胸高直径3.5寸，樹高5.5尺の樹木が該当する．\n"
    }
   ],
   "source": [
    "print('A: ある．胸高直径3.5寸，樹高5.5尺の樹木が該当する．')"
   ]
  },
  {
   "cell_type": "markdown",
   "execution_count": null,
   "metadata": {},
   "outputs": [],
   "source": [
    "### v) 胸高直径8寸の樹高の平均値を推定する"
   ]
  },
  {
   "cell_type": "code",
   "execution_count": 12,
   "metadata": {},
   "outputs": [
    {
     "name": "stdout",
     "output_type": "stream",
     "text": "A: 8.185750235923248尺\n"
    }
   ],
   "source": [
    "print(f'A: {beta2_est*8+beta1_est}尺')"
   ]
  },
  {
   "cell_type": "code",
   "execution_count": null,
   "metadata": {},
   "outputs": [],
   "source": []
  }
 ]
}