{
 "nbformat": 4,
 "nbformat_minor": 2,
 "metadata": {
  "language_info": {
   "name": "python",
   "codemirror_mode": {
    "name": "ipython",
    "version": 3
   },
   "version": "3.6.8-final"
  },
  "orig_nbformat": 2,
  "file_extension": ".py",
  "mimetype": "text/x-python",
  "name": "python",
  "npconvert_exporter": "python",
  "pygments_lexer": "ipython3",
  "version": 3,
  "kernelspec": {
   "name": "python36864bit90837f864f224d719314f680eb1f49c7",
   "display_name": "Python 3.6.8 64-bit"
  }
 },
 "cells": [
  {
   "cell_type": "markdown",
   "execution_count": null,
   "metadata": {},
   "outputs": [],
   "source": [
    "# 第12章 仮説検定 練習問題 2回目答案\n",
    "\n",
    "統計用のライブラリはできる限り使用せずスクラッチで計算 ただし，検算には用いる"
   ]
  },
  {
   "cell_type": "code",
   "execution_count": 1,
   "metadata": {},
   "outputs": [],
   "source": [
    "import numpy as np"
   ]
  },
  {
   "cell_type": "markdown",
   "execution_count": null,
   "metadata": {},
   "outputs": [],
   "source": [
    "## 12.1"
   ]
  },
  {
   "cell_type": "code",
   "execution_count": 2,
   "metadata": {},
   "outputs": [
    {
     "data": {
      "text/plain": "1.8909240092503048"
     },
     "execution_count": 2,
     "metadata": {},
     "output_type": "execute_result"
    }
   ],
   "source": [
    "samples = [101.1, 103.2, 102.1, 99.2, 100.5, 101.3, 99.7, 100.5, 98.9, 101.4]\n",
    "n = len(samples)\n",
    "mu_h0 = 100\n",
    "s_mean = np.mean(samples)\n",
    "s_var = sum([(s - s_mean)**2 for s in samples]) / (n-1)\n",
    "t_stat = (s_mean - mu_h0) / (s_var / n) ** 0.5\n",
    "t_stat"
   ]
  },
  {
   "cell_type": "markdown",
   "execution_count": null,
   "metadata": {},
   "outputs": [],
   "source": [
    "|t| < t_0.025(9) = 2.262\n",
    "より，帰無仮説H0は棄却されない"
   ]
  },
  {
   "cell_type": "markdown",
   "execution_count": null,
   "metadata": {},
   "outputs": [],
   "source": [
    "## 12.2"
   ]
  },
  {
   "cell_type": "code",
   "execution_count": 3,
   "metadata": {},
   "outputs": [],
   "source": [
    "def get_sum_diff(target_samples):\n",
    "    return sum([(s - np.mean(target_samples))**2 for s in target_samples])"
   ]
  },
  {
   "cell_type": "code",
   "execution_count": 4,
   "metadata": {},
   "outputs": [
    {
     "data": {
      "text/plain": "3.606503775109937"
     },
     "execution_count": 4,
     "metadata": {},
     "output_type": "execute_result"
    }
   ],
   "source": [
    "samples_man = [15.4, 18.3, 16.5, 17.4, 18.9, 17.2, 15.0, 15.7, 17.9, 16.5]\n",
    "samples_woman = [14.2, 15.9, 16.0, 14.0, 17.0, 13.8, 15.2, 14.5, 15.0, 14.4]\n",
    "m = len(samples_man)\n",
    "n = len(samples_woman)\n",
    "s_var = (get_sum_diff(samples_man)+get_sum_diff(samples_woman)) / (m+n-2)\n",
    "t_stat = (np.mean(samples_man)-np.mean(samples_woman)) / (s_var*(1/m+1/n))**0.5\n",
    "t_stat\n"
   ]
  },
  {
   "cell_type": "markdown",
   "execution_count": 11,
   "metadata": {},
   "outputs": [
    {
     "data": {
      "text/plain": "1.358666666666666"
     },
     "execution_count": 11,
     "metadata": {},
     "output_type": "execute_result"
    }
   ],
   "source": [
    "|t| > t_0.025(18) = 2.101\n",
    "より，帰無仮説H0は棄却される"
   ]
  },
  {
   "cell_type": "markdown",
   "execution_count": null,
   "metadata": {},
   "outputs": [],
   "source": [
    "## 12.3"
   ]
  },
  {
   "cell_type": "code",
   "execution_count": 5,
   "metadata": {},
   "outputs": [
    {
     "data": {
      "text/plain": "-1.560009076442849"
     },
     "execution_count": 5,
     "metadata": {},
     "output_type": "execute_result"
    }
   ],
   "source": [
    "sample_diff = [2, -5, -4, -8, 3, 0, 3, -6, -2, 1, 0, -4]\n",
    "mu = 0\n",
    "n = len(sample_diff)\n",
    "s_mean = np.mean(sample_diff)\n",
    "s_var = sum([(s - s_mean) ** 2 for s in sample_diff]) / (n-1)\n",
    "t_stat = (s_mean - mu) / (s_var / n)**0.5\n",
    "t_stat"
   ]
  },
  {
   "cell_type": "markdown",
   "execution_count": null,
   "metadata": {},
   "outputs": [],
   "source": [
    "t > t_0.01(11) = -2.718 より，帰無仮説H0は棄却されない\n",
    "よって，新しい治療法は有効とはいえない"
   ]
  },
  {
   "cell_type": "markdown",
   "execution_count": null,
   "metadata": {},
   "outputs": [],
   "source": [
    "## 12.4\n",
    "\n",
    "サイコロの出目に関する適合度検定"
   ]
  },
  {
   "cell_type": "code",
   "execution_count": 6,
   "metadata": {},
   "outputs": [
    {
     "data": {
      "text/plain": "2.0800000000000005"
     },
     "execution_count": 6,
     "metadata": {},
     "output_type": "execute_result"
    }
   ],
   "source": [
    "sample_number = [1, 2, 3, 4, 5, 6]\n",
    "sample_appearance = [10, 7, 8, 11, 6, 8]\n",
    "n = sum(sample_appearance)\n",
    "logic_p = 1/6\n",
    "chi_stat =  sum([(sa-n*logic_p)**2 / (n*logic_p) for sa in sample_appearance])\n",
    "chi_stat"
   ]
  },
  {
   "cell_type": "markdown",
   "execution_count": 7,
   "metadata": {},
   "outputs": [
    {
     "ename": "SyntaxError",
     "evalue": "invalid syntax (<ipython-input-7-185742c32df9>, line 1)",
     "output_type": "error",
     "traceback": [
      "\u001b[0;36m  File \u001b[0;32m\"<ipython-input-7-185742c32df9>\"\u001b[0;36m, line \u001b[0;32m1\u001b[0m\n\u001b[0;31m    x_stat < x_0.05(50) = 67.5048 より，「サイコロが正しく作られていない」とは言えない\u001b[0m\n\u001b[0m                  ^\u001b[0m\n\u001b[0;31mSyntaxError\u001b[0m\u001b[0;31m:\u001b[0m invalid syntax\n"
     ]
    }
   ],
   "source": [
    "x_stat < x_0.05(5)) = 11.07 より，「サイコロが正しく作られていない」とは言えない"
   ]
  },
  {
   "cell_type": "markdown",
   "execution_count": null,
   "metadata": {},
   "outputs": [],
   "source": [
    "## 12.5\n",
    "\n",
    "省略\n"
   ]
  },
  {
   "cell_type": "markdown",
   "execution_count": null,
   "metadata": {},
   "outputs": [],
   "source": [
    "## 12.6\n",
    "\n",
    "独立性検定"
   ]
  },
  {
   "cell_type": "code",
   "execution_count": 7,
   "metadata": {},
   "outputs": [
    {
     "data": {
      "text/html": "<div>\n<style scoped>\n    .dataframe tbody tr th:only-of-type {\n        vertical-align: middle;\n    }\n\n    .dataframe tbody tr th {\n        vertical-align: top;\n    }\n\n    .dataframe thead th {\n        text-align: right;\n    }\n</style>\n<table border=\"1\" class=\"dataframe\">\n  <thead>\n    <tr style=\"text-align: right;\">\n      <th></th>\n      <th>非喫煙者</th>\n      <th>喫煙者</th>\n    </tr>\n  </thead>\n  <tbody>\n    <tr>\n      <th>生存</th>\n      <td>950</td>\n      <td>348</td>\n    </tr>\n    <tr>\n      <th>死亡</th>\n      <td>117</td>\n      <td>54</td>\n    </tr>\n  </tbody>\n</table>\n</div>",
      "text/plain": "    非喫煙者  喫煙者\n生存   950  348\n死亡   117   54"
     },
     "execution_count": 7,
     "metadata": {},
     "output_type": "execute_result"
    }
   ],
   "source": [
    "import pandas as pd\n",
    "df = pd.DataFrame({'非喫煙者': [950, 117], '喫煙者': [348, 54]},\n",
    "                  index=['生存', '死亡'])\n",
    "df"
   ]
  },
  {
   "cell_type": "markdown",
   "execution_count": null,
   "metadata": {},
   "outputs": [],
   "source": [
    "帰無仮説 H0: P(6年後の生死, 習慣) ≡ P(6年後の生死) * P(習慣)\n",
    "\n",
    "と置き，「喫煙習慣と生存・死亡間の関連が認められるか」独立性検定を行う"
   ]
  },
  {
   "cell_type": "code",
   "execution_count": 8,
   "metadata": {},
   "outputs": [
    {
     "data": {
      "text/plain": "1.7284633798622355"
     },
     "execution_count": 8,
     "metadata": {},
     "output_type": "execute_result"
    }
   ],
   "source": [
    "logi_freq = df.values\n",
    "logi_freq_r = df.sum(axis=1).values\n",
    "logi_freq_c = df.sum(axis=0).values\n",
    "n = df.sum().sum()\n",
    "n_r = range(df.shape[0])\n",
    "n_c = range(df.shape[1])\n",
    "chi_stat = sum([(logi_freq[i, j]-logi_freq_r[i]*logi_freq_c[j]/n)**2 \\\n",
    "                / (logi_freq_r[i]*logi_freq_c[j]/n) \\\n",
    "                for i in n_r for j in n_c])\n",
    "chi_stat"
   ]
  },
  {
   "cell_type": "markdown",
   "execution_count": null,
   "metadata": {},
   "outputs": [],
   "source": [
    "chi_statは，有意水準α=0.05, 自由度 = (行カテゴリ数 - 1) \\* (列カテゴリ数 - 1) = 1\\*1 = 1\n",
    "に従う．\n",
    "\n",
    "chi_stat < chi_0.05(1) = 3.84146\n",
    "\n",
    "より，帰無仮説H0は棄却されない．\n",
    "したがって，喫煙習慣と生存・死亡間の関連性は認められない"
   ]
  },
  {
   "cell_type": "code",
   "execution_count": null,
   "metadata": {},
   "outputs": [],
   "source": []
  }
 ]
}