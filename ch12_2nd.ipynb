{
 "nbformat": 4,
 "nbformat_minor": 2,
 "metadata": {
  "language_info": {
   "name": "python",
   "codemirror_mode": {
    "name": "ipython",
    "version": 3
   },
   "version": "3.6.8-final"
  },
  "orig_nbformat": 2,
  "file_extension": ".py",
  "mimetype": "text/x-python",
  "name": "python",
  "npconvert_exporter": "python",
  "pygments_lexer": "ipython3",
  "version": 3,
  "kernelspec": {
   "name": "python36864bityoutubepy3conda57c8a37c196c41a28f0c055334f6dca3",
   "display_name": "Python 3.6.8 64-bit ('youtube_py3': conda)"
  }
 },
 "cells": [
  {
   "cell_type": "markdown",
   "execution_count": null,
   "metadata": {},
   "outputs": [],
   "source": [
    "# 第12章 仮説検定 練習問題 2回目答案\n",
    "\n",
    "統計用のライブラリはできる限り使用せずスクラッチで計算 ただし，検算には用いる"
   ]
  },
  {
   "cell_type": "code",
   "execution_count": 1,
   "metadata": {},
   "outputs": [],
   "source": [
    "import numpy as np"
   ]
  },
  {
   "cell_type": "markdown",
   "execution_count": null,
   "metadata": {},
   "outputs": [],
   "source": [
    "## 12.1"
   ]
  },
  {
   "cell_type": "code",
   "execution_count": 2,
   "metadata": {},
   "outputs": [
    {
     "data": {
      "text/plain": "1.8909240092503048"
     },
     "execution_count": 2,
     "metadata": {},
     "output_type": "execute_result"
    }
   ],
   "source": [
    "samples = [101.1, 103.2, 102.1, 99.2, 100.5, 101.3, 99.7, 100.5, 98.9, 101.4]\n",
    "n = len(samples)\n",
    "mu_h0 = 100\n",
    "s_mean = np.mean(samples)\n",
    "s_var = sum([(s - s_mean)**2 for s in samples]) / (n-1)\n",
    "t_stat = (s_mean - mu_h0) / (s_var / n) ** 0.5\n",
    "t_stat"
   ]
  },
  {
   "cell_type": "markdown",
   "execution_count": null,
   "metadata": {},
   "outputs": [],
   "source": [
    "|t| < t_0.025(9) = 2.262\n",
    "より，帰無仮説H0は棄却されない"
   ]
  },
  {
   "cell_type": "markdown",
   "execution_count": null,
   "metadata": {},
   "outputs": [],
   "source": [
    "## 12.2"
   ]
  },
  {
   "cell_type": "code",
   "execution_count": 3,
   "metadata": {},
   "outputs": [],
   "source": [
    "def get_sum_diff(target_samples):\n",
    "    return sum([(s - np.mean(target_samples))**2 for s in target_samples])"
   ]
  },
  {
   "cell_type": "code",
   "execution_count": 4,
   "metadata": {},
   "outputs": [
    {
     "data": {
      "text/plain": "3.606503775109937"
     },
     "execution_count": 4,
     "metadata": {},
     "output_type": "execute_result"
    }
   ],
   "source": [
    "samples_man = [15.4, 18.3, 16.5, 17.4, 18.9, 17.2, 15.0, 15.7, 17.9, 16.5]\n",
    "samples_woman = [14.2, 15.9, 16.0, 14.0, 17.0, 13.8, 15.2, 14.5, 15.0, 14.4]\n",
    "m = len(samples_man)\n",
    "n = len(samples_woman)\n",
    "s_var = (get_sum_diff(samples_man)+get_sum_diff(samples_woman)) / (m+n-2)\n",
    "t_stat = (np.mean(samples_man)-np.mean(samples_woman)) / (s_var*(1/m+1/n))**0.5\n",
    "t_stat\n"
   ]
  },
  {
   "cell_type": "markdown",
   "execution_count": 11,
   "metadata": {},
   "outputs": [
    {
     "data": {
      "text/plain": "1.358666666666666"
     },
     "execution_count": 11,
     "metadata": {},
     "output_type": "execute_result"
    }
   ],
   "source": [
    "|t| > t_0.025(18) = 2.101\n",
    "より，帰無仮説H0は棄却される"
   ]
  },
  {
   "cell_type": "markdown",
   "execution_count": null,
   "metadata": {},
   "outputs": [],
   "source": [
    "## 12.3"
   ]
  },
  {
   "cell_type": "code",
   "execution_count": 5,
   "metadata": {},
   "outputs": [
    {
     "data": {
      "text/plain": "-1.560009076442849"
     },
     "execution_count": 5,
     "metadata": {},
     "output_type": "execute_result"
    }
   ],
   "source": [
    "sample_diff = [2, -5, -4, -8, 3, 0, 3, -6, -2, 1, 0, -4]\n",
    "mu = 0\n",
    "n = len(sample_diff)\n",
    "s_mean = np.mean(sample_diff)\n",
    "s_var = sum([(s - s_mean) ** 2 for s in sample_diff]) / (n-1)\n",
    "t_stat = (s_mean - mu) / (s_var / n)**0.5\n",
    "t_stat"
   ]
  },
  {
   "cell_type": "markdown",
   "execution_count": null,
   "metadata": {},
   "outputs": [],
   "source": [
    "t > t_0.01(11) = -2.718 より，帰無仮説H0は棄却されない\n",
    "よって，新しい治療法は有効とはいえない"
   ]
  },
  {
   "cell_type": "code",
   "execution_count": null,
   "metadata": {},
   "outputs": [],
   "source": []
  }
 ]
}