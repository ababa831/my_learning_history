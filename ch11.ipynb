{
 "nbformat": 4,
 "nbformat_minor": 2,
 "metadata": {
  "language_info": {
   "name": "python",
   "codemirror_mode": {
    "name": "ipython",
    "version": 3
   },
   "version": "3.6.8"
  },
  "orig_nbformat": 2,
  "file_extension": ".py",
  "mimetype": "text/x-python",
  "name": "python",
  "npconvert_exporter": "python",
  "pygments_lexer": "ipython3",
  "version": 3
 },
 "cells": [
  {
   "cell_type": "markdown",
   "execution_count": 1,
   "metadata": {},
   "outputs": [
    {
     "ename": "NameError",
     "evalue": "name 'この章はほぼ手計算でOK' is not defined",
     "output_type": "error",
     "traceback": [
      "\u001b[0;31m---------------------------------------------------------------------------\u001b[0m",
      "\u001b[0;31mNameError\u001b[0m                                 Traceback (most recent call last)",
      "\u001b[0;32m<ipython-input-1-697bbe94c738>\u001b[0m in \u001b[0;36m<module>\u001b[0;34m\u001b[0m\n\u001b[1;32m      1\u001b[0m \u001b[0;31m# 第11章 推定 練習問題 答案\u001b[0m\u001b[0;34m\u001b[0m\u001b[0;34m\u001b[0m\u001b[0;34m\u001b[0m\u001b[0m\n\u001b[1;32m      2\u001b[0m \u001b[0;34m\u001b[0m\u001b[0m\n\u001b[0;32m----> 3\u001b[0;31m \u001b[0mこの章はほぼ手計算でOK\u001b[0m\u001b[0;34m\u001b[0m\u001b[0;34m\u001b[0m\u001b[0m\n\u001b[0m\u001b[1;32m      4\u001b[0m \u001b[0m答案をmarkdownにまとめる\u001b[0m\u001b[0;34m\u001b[0m\u001b[0;34m\u001b[0m\u001b[0m\n",
      "\u001b[0;31mNameError\u001b[0m: name 'この章はほぼ手計算でOK' is not defined"
     ]
    }
   ],
   "source": [
    "# 第11章 推定 練習問題 答案\n",
    "\n",
    "この章はほぼ手計算でOK\n",
    "答案をmarkdownにまとめる"
   ]
  },
  {
   "cell_type": "markdown",
   "execution_count": null,
   "metadata": {},
   "outputs": [],
   "source": [
    "## 11.1 指数分布"
   ]
  },
  {
   "cell_type": "markdown",
   "execution_count": null,
   "metadata": {},
   "outputs": [],
   "source": [
    "### Q.\n",
    "\n",
    "指数分布\n",
    "\n",
    "$$\n",
    "Ex(\\lambda) = \\lambda\\exp(-\\lambda x)\n",
    "$$\n",
    "\n",
    "について，サンプル数`n`の標本\n",
    "\n",
    "$$\n",
    "X_1, X_2, ... ,X_n\n",
    "$$\n",
    "\n",
    "に基づく，最尤推定量`λ`を求める\n",
    "\n"
   ]
  },
  {
   "cell_type": "markdown",
   "execution_count": null,
   "metadata": {},
   "outputs": [],
   "source": [
    "### A.\n",
    "\n",
    "尤度を`L(λ)`とおくと，\n",
    "$$\n",
    "L(\\lambda) = \\prod_{i=0}^n \\lambda\\exp(-\\lambda X_i)\n",
    "          = \\lambda^n \\exp(-\\lambda \\sum_{i=0}^n X_i)\n",
    "$$\n",
    "\n",
    "対数尤度は，\n",
    "\n",
    "$$\n",
    "\\log L(\\lambda) = n\\log\\lambda - \\lambda\\sum_{i=0}^n X_i\n",
    "$$\n",
    "\n",
    "右辺を0とおいて，`λ`について偏微分すると，\n",
    "\n",
    "$$\n",
    "\\frac{\\partial \\log L(\\lambda)}{\\partial \\lambda} = 0\n",
    "$$\n",
    "$$\n",
    "\\frac{n}{\\lambda} - \\sum_{i=0}^n X_i = 0\n",
    "$$\n",
    "\n",
    "`λ`の最尤推定量は，\n",
    "$$\n",
    "\\lambda = \\frac{n}{\\sum_{i=0}^n X_i} = \\frac{n}{\\bar X}\n",
    "$$\n"
   ]
  },
  {
   "cell_type": "code",
   "execution_count": null,
   "metadata": {},
   "outputs": [],
   "source": []
  }
 ]
}