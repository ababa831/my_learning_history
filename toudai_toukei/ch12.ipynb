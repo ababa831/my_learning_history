{
 "cells": [
  {
   "cell_type": "markdown",
   "metadata": {},
   "source": [
    "# 第12章 仮説検定 練習問題 答案\n",
    "\n",
    "統計用のライブラリはできる限り使用せずスクラッチで計算\n",
    "ただし，検算には用いる"
   ]
  },
  {
   "cell_type": "markdown",
   "metadata": {},
   "source": [
    "## 12.1"
   ]
  },
  {
   "cell_type": "code",
   "execution_count": 1,
   "metadata": {},
   "outputs": [],
   "source": [
    "# ある機械で生産された10個の製品の重要\n",
    "product_weights = [101.1, 103.2, 102.1, 99.2, 100.5, 101.3, 99.7, 100.5, 98.9, 101.4]\n",
    "n = len(product_weights)"
   ]
  },
  {
   "cell_type": "markdown",
   "execution_count": null,
   "metadata": {},
   "outputs": [],
   "source": [
    "### 母平均 mew = 100 g と考えてよいか？\n",
    "\n",
    "方針:\n",
    "\n",
    "- 帰無仮説 H_0: mew = 100\n",
    "- 対立仮説 H_1: mew != 100\n",
    "\n",
    "として，有意水準5%で両側検定する\n",
    "\n",
    "母分散が未知であるため，標本分散を用いるt検定を採用\n",
    "\n",
    "|t| > t_0.5α(n-1)となるかをみる\n",
    "\n",
    "（t: t統計量, n: 標本数, α: 有意水準, t_0.5α(n-1): パーセント点）"
   ]
  },
  {
   "cell_type": "code",
   "execution_count": 2,
   "metadata": {},
   "outputs": [
    {
     "name": "stdout",
     "output_type": "stream",
     "text": "A: 帰無仮説H_0は有意水準5%で棄却されない\n"
    }
   ],
   "source": [
    "# 1. 標本平均 → 標本分散 を求める\n",
    "import numpy as np\n",
    "mean_X = np.mean(product_weights)  # 標本平均\n",
    "s_sqared = sum([(X-mean_X)**2 for X in product_weights]) / (n-1)  # 標本分散\n",
    "# 2. t統計量を求める\n",
    "\"\"\"\n",
    "標本平均の分布は標本分布であるから，この分布はN(mean_X, nσ^2)に従っている．\n",
    "ここで，未知の母分散σ^2の代わりに標本分散s^2を用いる場合の標準化した統計量，\n",
    "すなわちt統計量は，t = (mean_X-mew) / sqrt(s_sqared/n)\n",
    "\"\"\"\n",
    "mew = 100  # 帰無仮説H_0より\n",
    "t = (mean_X-mew) / np.sqrt(s_sqared / n)  # 1.891\n",
    "# 3. |t| > t_0.5α(n-1)となるか確認\n",
    "\"\"\"\n",
    "t分布表より\n",
    "t_0.025(n-1)=2.262\n",
    "|1.891| < 2.262\n",
    "\"\"\"\n",
    "print('A: 帰無仮説H_0は有意水準5%で棄却されない')"
   ]
  },
  {
   "cell_type": "markdown",
   "execution_count": null,
   "metadata": {},
   "outputs": [],
   "source": [
    "## 12.2"
   ]
  },
  {
   "cell_type": "code",
   "execution_count": 3,
   "metadata": {},
   "outputs": [],
   "source": [
    "wage_men = [15.4, 18.3, 16.5, 17.4, 18.9, 17.2, 15.0, 15.7, 17.9, 16.5]\n",
    "wage_women = [14.2, 15.9, 16.0, 14.0, 17.0, 13.8, 15.2, 14.5, 15.0, 14.4]\n",
    "n = 10"
   ]
  },
  {
   "cell_type": "markdown",
   "execution_count": null,
   "metadata": {},
   "outputs": [],
   "source": [
    "### i) 男女間の賃金で母分散は等しいと仮定して，格差を5%の有意水準で検定する"
   ]
  },
  {
   "cell_type": "markdown",
   "execution_count": null,
   "metadata": {},
   "outputs": [],
   "source": [
    "方針: \n",
    "- 帰無仮説 H0: 男女間の母平均 mu_man == mu_woman\n",
    "- 対立仮説 H1: 男女間の母平均 mu_man != mu_woman\n",
    "\n",
    "と設定し，2標本の両側検定を行う．\n",
    "\n",
    "今回は母分散が未知であるため，両者の合併した標本分散をもとにt統計量を計算\n",
    "\n",
    "具体的には， |t|と t_0.025(n-1) の値を比較する "
   ]
  },
  {
   "cell_type": "code",
   "execution_count": 4,
   "metadata": {},
   "outputs": [
    {
     "name": "stdout",
     "output_type": "stream",
     "text": "有意水準5%で帰無仮説H0は棄却される，\n"
    }
   ],
   "source": [
    "# 1.　両者の標本分散から合併した標本分散を求める\n",
    "import numpy as np\n",
    "# 標本平均\n",
    "mean_men = np.mean(wage_men)\n",
    "mean_women = np.mean(wage_women)\n",
    "# 標本分散\n",
    "s_sqared_men = np.sum([(X-mean_men)**2 for X in wage_men]) / (n-1)\n",
    "s_sqared_women = np.sum([(X-mean_women)**2 for X in wage_women]) / (n-1)\n",
    "s_squared_mixed = (n-1)*(s_sqared_men+s_sqared_women) / (2*(n-1))  # 両者ともに標本数は同じ\n",
    "# 2. 2標本のt統計量を求める\n",
    "# NOTE: 母平均が両者で同じと定めているので，\n",
    "# t統計量を求める分子 (mean_men - mean_women) - (mu_men - mu_women)\n",
    "t = (mean_men-mean_women) / (s_squared_mixed*np.sqrt(1/n*2))\n",
    "# 3. |t|と t_0.025(n-1) を比較\n",
    "\"\"\"\n",
    "|3.094| > 2.101\n",
    "\"\"\"\n",
    "print('有意水準5%で帰無仮説H0は棄却される')"
   ]
  },
  {
   "cell_type": "markdown",
   "execution_count": null,
   "metadata": {},
   "outputs": [],
   "source": [
    "### ii) 母分散が等しくない場合，iと同一の検定を行う"
   ]
  },
  {
   "cell_type": "markdown",
   "execution_count": null,
   "metadata": {},
   "outputs": [],
   "source": [
    "方針:\n",
    "\n",
    "母分散が等しくない場合，ウェルチの近似法でパーセント点を求める\n",
    "\n",
    "本答案では，ウェルチの近似法が証明されているものとして，自由度の近似値を求める"
   ]
  },
  {
   "cell_type": "code",
   "execution_count": 5,
   "metadata": {},
   "outputs": [
    {
     "name": "stdout",
     "output_type": "stream",
     "text": "A: 有意水準5%で帰無仮説H0は棄却される\n"
    }
   ],
   "source": [
    "# 1. iで求めた両者の標本分散を利用して，2標本のt統計量を求める -> 3.607\n",
    "t = (mean_men-mean_women) / np.sqrt((s_sqared_men+s_sqared_women)/n)\n",
    "# 2. ウェルチの近似法より自由度を求める -> 17.17\n",
    "nu = ((s_sqared_men+s_sqared_women)/n)**2 / ((s_sqared_men/n)**2/(n-1)+(s_sqared_women/n)**2/(n-1))\n",
    "# 3. 2で求めた自由度より，t分布表で自由度17とα=0.025でパーセント点を求める\n",
    "# -> t_0.025(17) = 2.110\n",
    "# 4. t統計量とt_0.025(17)の比較\n",
    "\"\"\"\n",
    "|3.607| > 2.110\n",
    "\"\"\"\n",
    "print('A: 有意水準5%で帰無仮説H0は棄却される')"
   ]
  },
  {
   "cell_type": "markdown",
   "execution_count": null,
   "metadata": {},
   "outputs": [],
   "source": [
    "### iii) 母分散が等しいかを有意水準1%で検定"
   ]
  },
  {
   "cell_type": "markdown",
   "execution_count": null,
   "metadata": {},
   "outputs": [],
   "source": [
    "方針:\n",
    "\n",
    "- 帰無仮説 H0: sigma_squared_men == sigma_squared_women\n",
    "- 対立仮説 H1: sigma_squared_men != sigma_squared_women\n",
    "\n",
    "として，有意水準1%でF検定を行う\n",
    "\n",
    "手順:\n",
    "\n",
    "1. フィッシャーの分散比をiで求めた両者の標本分散から計算する\n",
    "2. F分布のパーセント点F_0.005(n, n)をF分布表より計算する\n",
    "3. FとF_0.005(n, n)の大小を比較する"
   ]
  },
  {
   "cell_type": "code",
   "execution_count": 6,
   "metadata": {},
   "outputs": [
    {
     "name": "stdout",
     "output_type": "stream",
     "text": "A: 有意水準1%で帰無仮説H0は棄却されない．\n"
    }
   ],
   "source": [
    "# 1. フィッシャーの分散比Fを求める -> 1.564\n",
    "F = s_sqared_men/s_sqared_women\n",
    "# 2. F_0.005(n, n)をF分布表より計算 -> 6.541\n",
    "# 3. FとF_0.005(n, n)の大小を比較\n",
    "\"\"\"\n",
    "1.564 < 6.541\n",
    "\"\"\"\n",
    "print('A: 有意水準1%で帰無仮説H0は棄却されない')"
   ]
  },
  {
   "cell_type": "markdown",
   "execution_count": null,
   "metadata": {},
   "outputs": [],
   "source": [
    "## 12.3"
   ]
  },
  {
   "cell_type": "markdown",
   "execution_count": null,
   "metadata": {},
   "outputs": [],
   "source": [
    "(取り敢えず計算結果のみ)"
   ]
  },
  {
   "cell_type": "code",
   "execution_count": 7,
   "metadata": {},
   "outputs": [],
   "source": [
    "diff_blood_pressure = [2, -5, -4, -8, 3, 0, 3, -6, -2, 1, 0, -4]"
   ]
  },
  {
   "cell_type": "markdown",
   "execution_count": null,
   "metadata": {},
   "outputs": [],
   "source": [
    "- 帰無仮説 H0: mew_diff == 0\n",
    "- 対立仮説 H1: mew_diff < 0"
   ]
  },
  {
   "cell_type": "code",
   "execution_count": 8,
   "metadata": {},
   "outputs": [
    {
     "name": "stdout",
     "output_type": "stream",
     "text": "s^2: 13.696969696969699\nt統計量: -1.560009076442849\n-t_0.01(11): -2.718\nt > -t_0.01(11)\nA: 帰無仮説H0は棄却されない -> 治療の効果が有意に示されたとはいえない\n"
    }
   ],
   "source": [
    "# 標本分散\n",
    "import numpy as np\n",
    "n = 12\n",
    "mew_diff = 0\n",
    "mean_X = np.mean(diff_blood_pressure)\n",
    "s_squared = np.sum([(X_i-mean_X)**2 for X_i in diff_blood_pressure]) / (n-1)\n",
    "print(f's^2: {s_squared}')\n",
    "# t統計量\n",
    "t = (mean_X-mew_diff) / np.sqrt(s_squared / n) \n",
    "print(f't統計量: {t}')\n",
    "# t分布 -t_0.01(n-1)とt統計量を比較\n",
    "print('-t_0.01(11): -2.718')\n",
    "print('t > -t_0.01(11)')\n",
    "print('A: 帰無仮説H0は棄却されない -> 治療の効果が有意に示されたとはいえない')"
   ]
  },
  {
   "cell_type": "code",
   "execution_count": null,
   "metadata": {},
   "outputs": [],
   "source": []
  }
 ],
 "metadata": {
  "kernelspec": {
   "display_name": "Python 3",
   "language": "python",
   "name": "python3"
  },
  "language_info": {
   "codemirror_mode": {
    "name": "ipython",
    "version": 3
   },
   "file_extension": ".py",
   "mimetype": "text/x-python",
   "name": "python",
   "nbconvert_exporter": "python",
   "pygments_lexer": "ipython3",
   "version": "3.7.3"
  }
 },
 "nbformat": 4,
 "nbformat_minor": 2
}